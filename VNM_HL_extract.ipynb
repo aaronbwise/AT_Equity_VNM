{
 "cells": [
  {
   "cell_type": "markdown",
   "metadata": {},
   "source": [
    "## Extract HL variables for equity stratifiers\n",
    "### ** Age and Sex HoH **"
   ]
  },
  {
   "cell_type": "code",
   "execution_count": 1,
   "metadata": {},
   "outputs": [],
   "source": [
    "# %load std_imports.py\n",
    "from pathlib import Path\n",
    "\n",
    "import numpy as np\n",
    "import pandas as pd\n",
    "\n",
    "import json\n",
    "import pyreadstat\n",
    "\n",
    "from std_utils import (\n",
    "    read_file,\n",
    "    run_quality_assurance,\n",
    "    generate_HHID,\n",
    "    merge_hh_hl_data,\n",
    "    subset_hl_df,\n",
    "    standardize_col_names,\n",
    "    standardize_col_values,\n",
    "    create_elderly_hoh,\n",
    "    save_merge,\n",
    "    export_analyzed_data\n",
    ")\n",
    "\n",
    "pd.set_option(\"display.max_rows\", 1500)\n",
    "pd.set_option(\"display.max_columns\", None)\n"
   ]
  },
  {
   "cell_type": "code",
   "execution_count": 2,
   "metadata": {},
   "outputs": [],
   "source": [
    "## Set parameters\n",
    "country = 'VNM'\n",
    "recode = 'listing'\n",
    "var_subset = 'relationship_hoh'\n",
    "var_rename = ['elderly_hoh', 'sex_hoh']\n",
    "var_replace = ['sex_hoh']\n",
    "\n",
    "# -------------------------------------------------------------------\n",
    "year_list = ['2000', '2006', '2011', '2014', '2021']\n",
    "# -------------------------------------------------------------------\n"
   ]
  },
  {
   "cell_type": "code",
   "execution_count": 3,
   "metadata": {},
   "outputs": [
    {
     "name": "stdout",
     "output_type": "stream",
     "text": [
      "The file -- hl_2000.sav -- has the following shape: Rows: 35657; Columns: 99\n",
      "HHID is NOT unique\n",
      "The merge variable *HHID* is unique: True\n",
      "The file -- hl_2006.sav -- has the following shape: Rows: 36573; Columns: 154\n",
      "HHID is NOT unique\n",
      "The merge variable *HHID* is unique: True\n",
      "The file -- hl_2011.sav -- has the following shape: Rows: 44831; Columns: 64\n",
      "HHID is NOT unique\n",
      "The merge variable *HHID* is unique: True\n",
      "The file -- hl_2014.sav -- has the following shape: Rows: 39380; Columns: 50\n",
      "HHID is NOT unique\n",
      "The merge variable *HHID* is unique: True\n",
      "The file -- hl_2021.sav -- has the following shape: Rows: 47821; Columns: 73\n",
      "HHID is NOT unique\n",
      "The merge variable *HHID* is unique: True\n"
     ]
    }
   ],
   "source": [
    "for year in year_list:\n",
    "\n",
    "    # Read file\n",
    "    df = read_file(country, year, recode)\n",
    "\n",
    "    # Create HHID to facilitate merge of HH and HL data\n",
    "    generate_HHID(df, country, year, recode)\n",
    "\n",
    "    # Subset df\n",
    "    df = subset_hl_df(df, country, year, recode, var_subset)\n",
    "\n",
    "    # Standardize column names\n",
    "    df = standardize_col_names(df, country, year, recode, var_rename)\n",
    "\n",
    "    # Standardize column values\n",
    "    df = standardize_col_values(df, country, year, recode, var_replace)\n",
    "\n",
    "    # Create Elderly HoH\n",
    "    df = create_elderly_hoh(df, var_rename[0])\n",
    "\n",
    "    # Save to merge folder\n",
    "    save_merge(df, country, year, recode)"
   ]
  },
  {
   "cell_type": "code",
   "execution_count": null,
   "metadata": {},
   "outputs": [],
   "source": []
  }
 ],
 "metadata": {
  "interpreter": {
   "hash": "d1219f75a05e3de399f75b6a0fa3fc1e1cfa3d08777c7149c1fd01787d780976"
  },
  "kernelspec": {
   "display_name": "Python 3.10.4 64-bit",
   "language": "python",
   "name": "python3"
  },
  "language_info": {
   "codemirror_mode": {
    "name": "ipython",
    "version": 3
   },
   "file_extension": ".py",
   "mimetype": "text/x-python",
   "name": "python",
   "nbconvert_exporter": "python",
   "pygments_lexer": "ipython3",
   "version": "3.10.4"
  },
  "orig_nbformat": 4
 },
 "nbformat": 4,
 "nbformat_minor": 2
}

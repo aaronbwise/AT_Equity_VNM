{
 "cells": [
  {
   "cell_type": "markdown",
   "metadata": {},
   "source": [
    "# Alive & Thrive\n",
    "## Viet Nam Data: Women Files - Tabulation\n",
    "## Prepared by Aaron Wise; aaron@a3di.dev\n",
    "### Version: 11 July 2022"
   ]
  },
  {
   "cell_type": "code",
   "execution_count": null,
   "metadata": {},
   "outputs": [],
   "source": [
    "from pathlib import Path\n",
    "\n",
    "import numpy as np\n",
    "import pandas as pd\n",
    "\n",
    "import statsmodels.api as sm"
   ]
  },
  {
   "cell_type": "code",
   "execution_count": null,
   "metadata": {},
   "outputs": [],
   "source": [
    "# %load tabulate_imports.py\n",
    "from tabulate import (\n",
    "    read_csv_file,\n",
    "    concatenate_dfs,\n",
    "    save_combined,\n",
    "    create_bivariate_var_dep,\n",
    "    extract_regression_params\n",
    ")\n",
    "\n",
    "from aw_analytics import mean_wt, output_mean_table"
   ]
  },
  {
   "cell_type": "markdown",
   "metadata": {},
   "source": [
    "### Create and save combined women's file"
   ]
  },
  {
   "cell_type": "code",
   "execution_count": null,
   "metadata": {},
   "outputs": [],
   "source": [
    "# Set parameters\n",
    "country = 'VNM'\n",
    "recode = 'women'\n",
    "\n",
    "# -------------------------------------------------------------------\n",
    "year_list = ['2000', '2006', '2011', '2014', '2021'] \n",
    "# -------------------------------------------------------------------\n",
    "\n",
    "\n",
    "# Read in files, store dfs in list\n",
    "list_of_dfs = [read_csv_file(country, recode, year, file_type='working') for year in year_list]\n",
    "\n",
    "# Combine the dfs\n",
    "df = concatenate_dfs(list_of_dfs)\n",
    "\n",
    "# Save and export\n",
    "save_combined(df, country, recode)"
   ]
  },
  {
   "cell_type": "markdown",
   "metadata": {},
   "source": [
    "### Run Descriptive stats"
   ]
  },
  {
   "cell_type": "code",
   "execution_count": null,
   "metadata": {},
   "outputs": [],
   "source": [
    "## TOTAL DATASET\n",
    "\n",
    "# Set parameters\n",
    "vars = ['anc_4_visits', 'anc_3_components', 'inst_delivery', 'caesarean_del', 'pnc_mother', 'low_bw', 'early_bf'] \n",
    "\n",
    "ind_vars = ['Total', 'residence', 'region', 'mother_edu', 'wealth_q', 'eth_hoh', 'elderly_hoh', 'sex_hoh']\n",
    "\n",
    "wt = 'wmweight'\n",
    "\n",
    "# Run for loop\n",
    "\n",
    "for year in year_list:\n",
    "\n",
    "    df = read_csv_file(country, recode, year, file_type='working')\n",
    "\n",
    "    out_fn = country + \"_\" + recode + \"_\" + year + \".xlsx\"\n",
    "    path = Path.cwd() / 'output' / 'frequencies' / out_fn\n",
    "    \n",
    "    # Instantiate object\n",
    "    xlwriter = pd.ExcelWriter(path)\n",
    "    \n",
    "    for var in vars:\n",
    "\n",
    "        try:\n",
    "            output = output_mean_table(df, var, ind_vars, wt)\n",
    "            sheet_name = str(var) + '_weighted'\n",
    "            output.to_excel(xlwriter, sheet_name=sheet_name)\n",
    "        \n",
    "        except:\n",
    "            print(f\"Warning: Unable to create sheet for var {var}\")\n",
    "\n",
    "    xlwriter.close()"
   ]
  },
  {
   "cell_type": "markdown",
   "metadata": {},
   "source": [
    "### Run Bivariate stats"
   ]
  },
  {
   "cell_type": "code",
   "execution_count": null,
   "metadata": {},
   "outputs": [],
   "source": [
    "# Read in combined file\n",
    "df = read_csv_file(country, recode, file_type='combined')\n",
    "\n",
    "# Create updated bivariate variables (mother_edu_biv, eth_hoh_biv)\n",
    "df = create_bivariate_var_dep(df)"
   ]
  },
  {
   "cell_type": "code",
   "execution_count": null,
   "metadata": {},
   "outputs": [],
   "source": [
    "# Set parameters\n",
    "var_dep_list = ['anc_4_visits', 'anc_3_components', 'inst_delivery', 'caesarean_del', 'pnc_mother', 'low_bw', 'early_bf'] \n",
    "\n",
    "ind_var_list = ['residence', 'region', 'mother_edu_biv', 'wealth_q', 'eth_hoh_biv', 'elderly_hoh', 'sex_hoh']\n",
    "\n",
    "# Run bivariate (extract WLS regression params)\n",
    "output = {var_dep: pd.DataFrame({ind_var: extract_regression_params(df, var_dep, ind_var) for ind_var in ind_var_list}) for var_dep in var_dep_list}"
   ]
  },
  {
   "cell_type": "code",
   "execution_count": null,
   "metadata": {},
   "outputs": [],
   "source": [
    "# Generate csv of outputs\n",
    "\n",
    "for var in var_dep_list:\n",
    "    fn = var + '.csv'\n",
    "    output[var].transpose().to_csv(f\"./output/bivariate/{fn}\")"
   ]
  },
  {
   "cell_type": "code",
   "execution_count": null,
   "metadata": {},
   "outputs": [],
   "source": []
  }
 ],
 "metadata": {
  "kernelspec": {
   "display_name": "Python 3.10.4 64-bit",
   "language": "python",
   "name": "python3"
  },
  "language_info": {
   "codemirror_mode": {
    "name": "ipython",
    "version": 3
   },
   "file_extension": ".py",
   "mimetype": "text/x-python",
   "name": "python",
   "nbconvert_exporter": "python",
   "pygments_lexer": "ipython3",
   "version": "3.10.4"
  },
  "orig_nbformat": 4,
  "vscode": {
   "interpreter": {
    "hash": "d1219f75a05e3de399f75b6a0fa3fc1e1cfa3d08777c7149c1fd01787d780976"
   }
  }
 },
 "nbformat": 4,
 "nbformat_minor": 2
}

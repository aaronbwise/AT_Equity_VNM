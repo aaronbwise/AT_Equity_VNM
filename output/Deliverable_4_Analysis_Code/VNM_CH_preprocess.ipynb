{
 "cells": [
  {
   "cell_type": "markdown",
   "metadata": {},
   "source": [
    "# Alive & Thrive\n",
    "## Viet Nam Data: Child Files - Preprocessing\n",
    "## Prepared by Aaron Wise; aaron@a3di.dev\n",
    "### Version: 28 May 2022"
   ]
  },
  {
   "cell_type": "code",
   "execution_count": 1,
   "metadata": {},
   "outputs": [],
   "source": [
    "# %load std_imports.py\n",
    "from pathlib import Path\n",
    "\n",
    "import numpy as np\n",
    "import pandas as pd\n",
    "\n",
    "import json\n",
    "import pyreadstat\n",
    "\n",
    "from std_utils import (\n",
    "    read_spss_file,\n",
    "    run_quality_assurance,\n",
    "    generate_HHID,\n",
    "    generate_MEMID,\n",
    "    subset_edu_save,\n",
    "    add_total_year,\n",
    "    merge_hh_hl_data,\n",
    "    subset_hl_df,\n",
    "    standardize_col_names,\n",
    "    standardize_col_values,\n",
    "    create_elderly_hoh,\n",
    "    save_merge,\n",
    "    export_analyzed_data\n",
    ")\n",
    "\n",
    "pd.set_option(\"display.max_rows\", 1500)\n",
    "pd.set_option(\"display.max_columns\", None)\n"
   ]
  },
  {
   "cell_type": "code",
   "execution_count": 2,
   "metadata": {},
   "outputs": [],
   "source": [
    "# %load children_imports.py\n",
    "from children_analysis import (\n",
    "    subset_children_file,\n",
    "    generate_MOMID,\n",
    "    merge_mother_edu,\n",
    "    create_sex_ch,\n",
    "    create_ch_age_cat,\n",
    "    create_excl_bf,\n",
    "    create_cont_1223_bf,\n",
    "    create_mdd_ch,\n",
    "    create_mmf_ch,\n",
    "    create_mad_ch\n",
    ")\n",
    "\n",
    "from aw_analytics import mean_wt, output_mean_table\n",
    "\n",
    "from women_analysis import create_mother_edu"
   ]
  },
  {
   "cell_type": "markdown",
   "metadata": {},
   "source": [
    "### --- 2021 ---"
   ]
  },
  {
   "cell_type": "code",
   "execution_count": 3,
   "metadata": {},
   "outputs": [],
   "source": [
    "# Set parameters\n",
    "country = 'VNM'\n",
    "recode = 'children'\n",
    "\n",
    "# -------------------------------------------------------------------\n",
    "year = '2021'\n",
    "# -------------------------------------------------------------------"
   ]
  },
  {
   "cell_type": "code",
   "execution_count": 4,
   "metadata": {},
   "outputs": [
    {
     "name": "stdout",
     "output_type": "stream",
     "text": [
      "The file -- ch_2021.sav -- has the following shape: Rows: 4404; Columns: 537\n",
      "HHID is NOT unique\n",
      "MOMID is NOT unique\n",
      "Drop columns if all values are NaN...\n",
      "Updated -- Rows: 4404; Columns: 537\n",
      "Checking if any rows are duplicates...\n",
      "The are no duplicate rows\n",
      "The number of children with a completed survey is: 4329\n"
     ]
    }
   ],
   "source": [
    "# Read file\n",
    "df = read_spss_file(country, year, recode)\n",
    "\n",
    "# Create HHID to facilitate merge of HH and HL data\n",
    "generate_HHID(df, country, year, recode)\n",
    "\n",
    "# Create WMID to facilitate merge into U5 file\n",
    "generate_MOMID(df, country, year)\n",
    "\n",
    "# Add Total, Year\n",
    "add_total_year(df, year)\n",
    "\n",
    "# Run quality assurance\n",
    "run_quality_assurance(df)\n",
    "\n",
    "# Merge in HH and HL data\n",
    "df = merge_hh_hl_data(df, country, year)\n",
    "\n",
    "# Merge in Mother Education data\n",
    "df = merge_mother_edu(df, country, year)\n",
    "\n",
    "# Subset children's file (completed)\n",
    "df = subset_children_file(df, country, year)"
   ]
  },
  {
   "cell_type": "markdown",
   "metadata": {},
   "source": [
    "#### Create Indicators"
   ]
  },
  {
   "cell_type": "code",
   "execution_count": 5,
   "metadata": {},
   "outputs": [],
   "source": [
    "# --- Child Sex [sex_ch] --- #\n",
    "df = create_sex_ch(df, country, year)\n",
    "\n",
    "# --- Mother Education [mother_edu] --- #\n",
    "df = create_mother_edu(df, country, year, recode='children')\n",
    "\n",
    "# --- Age categories [ch_age_cat_X] --- #\n",
    "df = create_ch_age_cat(df, country, year)"
   ]
  },
  {
   "cell_type": "code",
   "execution_count": 6,
   "metadata": {},
   "outputs": [],
   "source": [
    "# --- Exclusive BF [excl_bf] --- #\n",
    "df = create_excl_bf(df, country, year)\n",
    "\n",
    "# --- Continued Breastfeeding 12-23 mos [cont_1223_bf] --- #\n",
    "df = create_cont_1223_bf(df)\n",
    "\n",
    "# --- Minimum Dietary Diversity [mdd_ch] --- #\n",
    "df = create_mdd_ch(df, country, year)\n",
    "\n",
    "# --- Minimum Meal Frequency [mmf_ch] --- #\n",
    "df = create_mmf_ch(df, country, year)\n",
    "\n",
    "# --- Minimum Acceptable Diet [mad_ch] --- #\n",
    "df = create_mad_ch(df)"
   ]
  },
  {
   "cell_type": "markdown",
   "metadata": {},
   "source": [
    "#### Subset and export working dataset"
   ]
  },
  {
   "cell_type": "code",
   "execution_count": 7,
   "metadata": {},
   "outputs": [],
   "source": [
    "export_analyzed_data(df, country, year, recode)"
   ]
  },
  {
   "cell_type": "markdown",
   "metadata": {},
   "source": [
    "### --- 2014 ---"
   ]
  },
  {
   "cell_type": "code",
   "execution_count": 8,
   "metadata": {},
   "outputs": [],
   "source": [
    "# Set parameters\n",
    "country = 'VNM'\n",
    "recode = 'children'\n",
    "\n",
    "# -------------------------------------------------------------------\n",
    "year = '2014'\n",
    "# -------------------------------------------------------------------"
   ]
  },
  {
   "cell_type": "code",
   "execution_count": 9,
   "metadata": {},
   "outputs": [
    {
     "name": "stdout",
     "output_type": "stream",
     "text": [
      "The file -- ch_2014.sav -- has the following shape: Rows: 3346; Columns: 344\n",
      "HHID is NOT unique\n",
      "MOMID is NOT unique\n",
      "Drop columns if all values are NaN...\n",
      "Updated -- Rows: 3346; Columns: 348\n",
      "Checking if any rows are duplicates...\n",
      "The are no duplicate rows\n",
      "The number of children with a completed survey is: 3316\n"
     ]
    }
   ],
   "source": [
    "# Read file\n",
    "df = read_spss_file(country, year, recode)\n",
    "\n",
    "# Create HHID to facilitate merge of HH and HL data\n",
    "generate_HHID(df, country, year, recode)\n",
    "\n",
    "# Create WMID to facilitate merge into U5 file\n",
    "generate_MOMID(df, country, year)\n",
    "\n",
    "# Add Total, Year\n",
    "add_total_year(df, year)\n",
    "\n",
    "# Run quality assurance\n",
    "run_quality_assurance(df)\n",
    "\n",
    "# Merge in HH and HL data\n",
    "df = merge_hh_hl_data(df, country, year)\n",
    "\n",
    "# Merge in Mother Education data\n",
    "df = merge_mother_edu(df, country, year)\n",
    "\n",
    "# Subset children's file (completed)\n",
    "df = subset_children_file(df, country, year)"
   ]
  },
  {
   "cell_type": "markdown",
   "metadata": {},
   "source": [
    "#### Create indicators"
   ]
  },
  {
   "cell_type": "code",
   "execution_count": 10,
   "metadata": {},
   "outputs": [],
   "source": [
    "# --- Child Sex [sex_ch] --- #\n",
    "df = create_sex_ch(df, country, year)\n",
    "\n",
    "# --- Mother Education [mother_edu] --- #\n",
    "df = create_mother_edu(df, country, year, recode='children')\n",
    "\n",
    "# --- Age categories [ch_age_cat_X] --- #\n",
    "df = create_ch_age_cat(df, country, year)"
   ]
  },
  {
   "cell_type": "code",
   "execution_count": 11,
   "metadata": {},
   "outputs": [],
   "source": [
    "# --- Exclusive BF [excl_bf] --- #\n",
    "df = create_excl_bf(df, country, year)\n",
    "\n",
    "# --- Continued Breastfeeding 12-23 mos [cont_1223_bf] --- #\n",
    "df = create_cont_1223_bf(df)\n",
    "\n",
    "# --- Minimum Dietary Diversity [mdd_ch] --- #\n",
    "df = create_mdd_ch(df, country, year)\n",
    "\n",
    "# --- Minimum Meal Frequency [mmf_ch] --- #\n",
    "df = create_mmf_ch(df, country, year)\n",
    "\n",
    "# --- Minimum Acceptable Diet [mad_ch] --- #\n",
    "df = create_mad_ch(df)"
   ]
  },
  {
   "cell_type": "markdown",
   "metadata": {},
   "source": [
    "#### Subset and export working dataset"
   ]
  },
  {
   "cell_type": "code",
   "execution_count": 12,
   "metadata": {},
   "outputs": [],
   "source": [
    "export_analyzed_data(df, country, year, recode)"
   ]
  },
  {
   "cell_type": "markdown",
   "metadata": {},
   "source": [
    "### --- 2011 ---"
   ]
  },
  {
   "cell_type": "code",
   "execution_count": 13,
   "metadata": {},
   "outputs": [],
   "source": [
    "# Set parameters\n",
    "country = 'VNM'\n",
    "recode = 'children'\n",
    "\n",
    "# -------------------------------------------------------------------\n",
    "year = '2011'\n",
    "# -------------------------------------------------------------------"
   ]
  },
  {
   "cell_type": "code",
   "execution_count": 14,
   "metadata": {},
   "outputs": [
    {
     "name": "stdout",
     "output_type": "stream",
     "text": [
      "The file -- ch_2011.sav -- has the following shape: Rows: 3729; Columns: 300\n",
      "HHID is NOT unique\n",
      "MOMID is NOT unique\n",
      "Drop columns if all values are NaN...\n",
      "Updated -- Rows: 3729; Columns: 304\n",
      "Checking if any rows are duplicates...\n",
      "The are no duplicate rows\n",
      "The number of children with a completed survey is: 3678\n"
     ]
    }
   ],
   "source": [
    "# Read file\n",
    "df = read_spss_file(country, year, recode)\n",
    "\n",
    "# Create HHID to facilitate merge of HH and HL data\n",
    "generate_HHID(df, country, year, recode)\n",
    "\n",
    "# Create WMID to facilitate merge into U5 file\n",
    "generate_MOMID(df, country, year)\n",
    "\n",
    "# Add Total, Year\n",
    "add_total_year(df, year)\n",
    "\n",
    "# Run quality assurance\n",
    "run_quality_assurance(df)\n",
    "\n",
    "# Merge in HH and HL data\n",
    "df = merge_hh_hl_data(df, country, year)\n",
    "\n",
    "# Merge in Mother Education data\n",
    "df = merge_mother_edu(df, country, year)\n",
    "\n",
    "# Subset children's file (completed)\n",
    "df = subset_children_file(df, country, year)"
   ]
  },
  {
   "cell_type": "markdown",
   "metadata": {},
   "source": [
    "#### Create indicators"
   ]
  },
  {
   "cell_type": "code",
   "execution_count": 15,
   "metadata": {},
   "outputs": [],
   "source": [
    "# --- Child Sex [sex_ch] --- #\n",
    "df = create_sex_ch(df, country, year)\n",
    "\n",
    "# --- Mother Education [mother_edu] --- #\n",
    "df = create_mother_edu(df, country, year, recode='children')\n",
    "\n",
    "# --- Age categories [ch_age_cat_X] --- #\n",
    "df = create_ch_age_cat(df, country, year)"
   ]
  },
  {
   "cell_type": "code",
   "execution_count": 16,
   "metadata": {},
   "outputs": [],
   "source": [
    "# --- Exclusive BF [excl_bf] --- #\n",
    "df = create_excl_bf(df, country, year)\n",
    "\n",
    "# --- Continued Breastfeeding 12-23 mos [cont_1223_bf] --- #\n",
    "df = create_cont_1223_bf(df)\n",
    "\n",
    "# # --- Minimum Dietary Diversity [mdd_ch] --- #\n",
    "# df = create_mdd_ch(df, country, year)\n",
    "\n",
    "# --- Minimum Meal Frequency [mmf_ch] --- #\n",
    "df = create_mmf_ch(df, country, year)\n",
    "\n",
    "# # --- Minimum Acceptable Diet [mad_ch] --- #\n",
    "# df = create_mad_ch(df)"
   ]
  },
  {
   "cell_type": "markdown",
   "metadata": {},
   "source": [
    "#### Subset and export working dataset"
   ]
  },
  {
   "cell_type": "code",
   "execution_count": 17,
   "metadata": {},
   "outputs": [],
   "source": [
    "export_analyzed_data(df, country, year, recode)"
   ]
  },
  {
   "cell_type": "markdown",
   "metadata": {},
   "source": [
    "### --- 2006 ---"
   ]
  },
  {
   "cell_type": "code",
   "execution_count": 18,
   "metadata": {},
   "outputs": [],
   "source": [
    "# Set parameters\n",
    "country = 'VNM'\n",
    "recode = 'children'\n",
    "\n",
    "# -------------------------------------------------------------------\n",
    "year = '2006'\n",
    "# -------------------------------------------------------------------"
   ]
  },
  {
   "cell_type": "code",
   "execution_count": 19,
   "metadata": {},
   "outputs": [
    {
     "name": "stdout",
     "output_type": "stream",
     "text": [
      "The file -- ch_2006.sav -- has the following shape: Rows: 2680; Columns: 297\n",
      "HHID is NOT unique\n",
      "MOMID is NOT unique\n",
      "Drop columns if all values are NaN...\n",
      "Updated -- Rows: 2680; Columns: 300\n",
      "Checking if any rows are duplicates...\n",
      "The are no duplicate rows\n",
      "The number of children with a completed survey is: 2680\n"
     ]
    }
   ],
   "source": [
    "# Read file\n",
    "df = read_spss_file(country, year, recode)\n",
    "\n",
    "# Create HHID to facilitate merge of HH and HL data\n",
    "generate_HHID(df, country, year, recode)\n",
    "\n",
    "# Create WMID to facilitate merge into U5 file\n",
    "generate_MOMID(df, country, year)\n",
    "\n",
    "# Add Total, Year\n",
    "add_total_year(df, year)\n",
    "\n",
    "# Run quality assurance\n",
    "run_quality_assurance(df)\n",
    "\n",
    "# Merge in HH and HL data\n",
    "df = merge_hh_hl_data(df, country, year)\n",
    "\n",
    "# Merge in Mother Education data\n",
    "df = merge_mother_edu(df, country, year)\n",
    "\n",
    "# Subset children's file (completed)\n",
    "df = subset_children_file(df, country, year)"
   ]
  },
  {
   "cell_type": "markdown",
   "metadata": {},
   "source": [
    "#### Create indicators"
   ]
  },
  {
   "cell_type": "code",
   "execution_count": 20,
   "metadata": {},
   "outputs": [],
   "source": [
    "# --- Child Sex [sex_ch] --- #\n",
    "df = create_sex_ch(df, country, year)\n",
    "\n",
    "# --- Mother Education [mother_edu] --- #\n",
    "df = create_mother_edu(df, country, year, recode='children')\n",
    "\n",
    "# --- Age categories [ch_age_cat_X] --- #\n",
    "df = create_ch_age_cat(df, country, year)"
   ]
  },
  {
   "cell_type": "code",
   "execution_count": 21,
   "metadata": {},
   "outputs": [],
   "source": [
    "# --- Exclusive BF [excl_bf] --- #\n",
    "df = create_excl_bf(df, country, year)\n",
    "\n",
    "# --- Continued Breastfeeding 12-23 mos [cont_1223_bf] --- #\n",
    "df = create_cont_1223_bf(df)\n",
    "\n",
    "# # --- Minimum Dietary Diversity [mdd_ch] --- #\n",
    "# df = create_mdd_ch(df, country, year)\n",
    "\n",
    "# # --- Minimum Meal Frequency [mmf_ch] --- #\n",
    "# df = create_mmf_ch(df, country, year)\n",
    "\n",
    "# # --- Minimum Acceptable Diet [mad_ch] --- #\n",
    "# df = create_mad_ch(df)"
   ]
  },
  {
   "cell_type": "markdown",
   "metadata": {},
   "source": [
    "#### Subset and export working dataset"
   ]
  },
  {
   "cell_type": "code",
   "execution_count": 22,
   "metadata": {},
   "outputs": [],
   "source": [
    "export_analyzed_data(df, country, year, recode)"
   ]
  },
  {
   "cell_type": "markdown",
   "metadata": {},
   "source": [
    "### --- 2000 ---"
   ]
  },
  {
   "cell_type": "code",
   "execution_count": 23,
   "metadata": {},
   "outputs": [],
   "source": [
    "# Set parameters\n",
    "country = 'VNM'\n",
    "recode = 'children'\n",
    "\n",
    "# -------------------------------------------------------------------\n",
    "year = '2000'\n",
    "# -------------------------------------------------------------------"
   ]
  },
  {
   "cell_type": "code",
   "execution_count": 24,
   "metadata": {},
   "outputs": [
    {
     "name": "stdout",
     "output_type": "stream",
     "text": [
      "The file -- ch_2000.sav -- has the following shape: Rows: 3105; Columns: 251\n",
      "HHID is NOT unique\n",
      "MOMID is NOT unique\n",
      "Drop columns if all values are NaN...\n",
      "Updated -- Rows: 3105; Columns: 254\n",
      "Checking if any rows are duplicates...\n",
      "The are no duplicate rows\n",
      "The number of children with a completed survey is: 3105\n"
     ]
    }
   ],
   "source": [
    "# Read file\n",
    "df = read_spss_file(country, year, recode)\n",
    "\n",
    "# Create HHID to facilitate merge of HH and HL data\n",
    "generate_HHID(df, country, year, recode)\n",
    "\n",
    "# Create WMID to facilitate merge into U5 file\n",
    "generate_MOMID(df, country, year)\n",
    "\n",
    "# Add Total, Year\n",
    "add_total_year(df, year)\n",
    "\n",
    "# Run quality assurance\n",
    "run_quality_assurance(df)\n",
    "\n",
    "# Merge in HH and HL data\n",
    "df = merge_hh_hl_data(df, country, year)\n",
    "\n",
    "# Merge in Mother Education data\n",
    "df = merge_mother_edu(df, country, year)\n",
    "\n",
    "# Subset children's file (completed)\n",
    "df = subset_children_file(df, country, year)"
   ]
  },
  {
   "cell_type": "markdown",
   "metadata": {},
   "source": [
    "#### Create indicators"
   ]
  },
  {
   "cell_type": "code",
   "execution_count": 25,
   "metadata": {},
   "outputs": [],
   "source": [
    "# --- Child Sex [sex_ch] --- #\n",
    "df = create_sex_ch(df, country, year)\n",
    "\n",
    "# --- Mother Education [mother_edu] --- #\n",
    "df = create_mother_edu(df, country, year, recode='children')\n",
    "\n",
    "# --- Age categories [ch_age_cat_X] --- #\n",
    "df = create_ch_age_cat(df, country, year)"
   ]
  },
  {
   "cell_type": "code",
   "execution_count": 26,
   "metadata": {},
   "outputs": [],
   "source": [
    "# --- Exclusive BF [excl_bf] --- #\n",
    "df = create_excl_bf(df, country, year)\n",
    "\n",
    "# --- Continued Breastfeeding 12-23 mos [cont_1223_bf] --- #\n",
    "df = create_cont_1223_bf(df)\n",
    "\n",
    "# # --- Minimum Dietary Diversity [mdd_ch] --- #\n",
    "# df = create_mdd_ch(df, country, year)\n",
    "\n",
    "# # --- Minimum Meal Frequency [mmf_ch] --- #\n",
    "# df = create_mmf_ch(df, country, year)\n",
    "\n",
    "# # --- Minimum Acceptable Diet [mad_ch] --- #\n",
    "# df = create_mad_ch(df)"
   ]
  },
  {
   "cell_type": "markdown",
   "metadata": {},
   "source": [
    "#### Subset and export working dataset"
   ]
  },
  {
   "cell_type": "code",
   "execution_count": 27,
   "metadata": {},
   "outputs": [],
   "source": [
    "export_analyzed_data(df, country, year, recode)"
   ]
  },
  {
   "cell_type": "code",
   "execution_count": null,
   "metadata": {},
   "outputs": [],
   "source": []
  },
  {
   "cell_type": "code",
   "execution_count": null,
   "metadata": {},
   "outputs": [],
   "source": []
  },
  {
   "cell_type": "code",
   "execution_count": null,
   "metadata": {},
   "outputs": [],
   "source": [
    "var = 'excl_bf'\n",
    "ind_vars = ['sex_ch']\n",
    "weight = ['CHWEIGHT']\n",
    "\n",
    "output_mean_table(df, var, ind_vars, weight)"
   ]
  },
  {
   "cell_type": "code",
   "execution_count": null,
   "metadata": {},
   "outputs": [],
   "source": []
  }
 ],
 "metadata": {
  "interpreter": {
   "hash": "d1219f75a05e3de399f75b6a0fa3fc1e1cfa3d08777c7149c1fd01787d780976"
  },
  "kernelspec": {
   "display_name": "Python 3.10.4 64-bit",
   "language": "python",
   "name": "python3"
  },
  "language_info": {
   "codemirror_mode": {
    "name": "ipython",
    "version": 3
   },
   "file_extension": ".py",
   "mimetype": "text/x-python",
   "name": "python",
   "nbconvert_exporter": "python",
   "pygments_lexer": "ipython3",
   "version": "3.10.4"
  },
  "orig_nbformat": 4
 },
 "nbformat": 4,
 "nbformat_minor": 2
}

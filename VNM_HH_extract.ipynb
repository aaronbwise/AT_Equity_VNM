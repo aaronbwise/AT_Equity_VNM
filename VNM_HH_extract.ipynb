{
 "cells": [
  {
   "cell_type": "markdown",
   "metadata": {},
   "source": [
    "## Extract HH variables for equity stratifiers\n",
    "### ** Residence, Region, Wealth, Ethnicity of HoH **"
   ]
  },
  {
   "cell_type": "code",
   "execution_count": 1,
   "metadata": {},
   "outputs": [],
   "source": [
    "# %load std_imports.py\n",
    "from pathlib import Path\n",
    "\n",
    "import numpy as np\n",
    "import pandas as pd\n",
    "\n",
    "import json\n",
    "import pyreadstat\n",
    "\n",
    "from std_utils import (\n",
    "    read_file,\n",
    "    run_quality_assurance,\n",
    "    generate_HHID,\n",
    "    merge_hh_hl_data,\n",
    "    subset_df,\n",
    "    standardize_col_names,\n",
    "    standardize_col_values,\n",
    "    save_merge,\n",
    ")\n",
    "\n",
    "pd.set_option(\"display.max_rows\", 1500)\n",
    "pd.set_option(\"display.max_columns\", None)\n"
   ]
  },
  {
   "cell_type": "code",
   "execution_count": 2,
   "metadata": {},
   "outputs": [],
   "source": [
    "# Set parameters\n",
    "country = 'VNM'\n",
    "recode = 'household'\n",
    "var_rename = ['residence', 'region', 'wealth', 'eth_hoh']\n",
    "var_replace = ['residence', 'region', 'eth_hoh']\n",
    "\n",
    "# -------------------------------------------------------------------\n",
    "year = '2000'\n",
    "# -------------------------------------------------------------------\n"
   ]
  },
  {
   "cell_type": "code",
   "execution_count": 3,
   "metadata": {},
   "outputs": [
    {
     "name": "stdout",
     "output_type": "stream",
     "text": [
      "The file -- hh_2000.sav -- has the following shape: Rows: 7628; Columns: 54\n"
     ]
    },
    {
     "ename": "KeyError",
     "evalue": "None",
     "output_type": "error",
     "traceback": [
      "\u001b[1;31m---------------------------------------------------------------------------\u001b[0m",
      "\u001b[1;31mKeyError\u001b[0m                                  Traceback (most recent call last)",
      "File \u001b[1;32mc:\\Users\\Lindsey\\AppData\\Local\\Programs\\Python\\Python310\\lib\\site-packages\\pandas\\core\\indexes\\base.py:3621\u001b[0m, in \u001b[0;36mIndex.get_loc\u001b[1;34m(self, key, method, tolerance)\u001b[0m\n\u001b[0;32m   3620\u001b[0m \u001b[39mtry\u001b[39;00m:\n\u001b[1;32m-> 3621\u001b[0m     \u001b[39mreturn\u001b[39;00m \u001b[39mself\u001b[39;49m\u001b[39m.\u001b[39;49m_engine\u001b[39m.\u001b[39;49mget_loc(casted_key)\n\u001b[0;32m   3622\u001b[0m \u001b[39mexcept\u001b[39;00m \u001b[39mKeyError\u001b[39;00m \u001b[39mas\u001b[39;00m err:\n",
      "File \u001b[1;32mc:\\Users\\Lindsey\\AppData\\Local\\Programs\\Python\\Python310\\lib\\site-packages\\pandas\\_libs\\index.pyx:136\u001b[0m, in \u001b[0;36mpandas._libs.index.IndexEngine.get_loc\u001b[1;34m()\u001b[0m\n",
      "File \u001b[1;32mc:\\Users\\Lindsey\\AppData\\Local\\Programs\\Python\\Python310\\lib\\site-packages\\pandas\\_libs\\index.pyx:163\u001b[0m, in \u001b[0;36mpandas._libs.index.IndexEngine.get_loc\u001b[1;34m()\u001b[0m\n",
      "File \u001b[1;32mpandas\\_libs\\hashtable_class_helper.pxi:5198\u001b[0m, in \u001b[0;36mpandas._libs.hashtable.PyObjectHashTable.get_item\u001b[1;34m()\u001b[0m\n",
      "File \u001b[1;32mpandas\\_libs\\hashtable_class_helper.pxi:5206\u001b[0m, in \u001b[0;36mpandas._libs.hashtable.PyObjectHashTable.get_item\u001b[1;34m()\u001b[0m\n",
      "\u001b[1;31mKeyError\u001b[0m: None",
      "\nThe above exception was the direct cause of the following exception:\n",
      "\u001b[1;31mKeyError\u001b[0m                                  Traceback (most recent call last)",
      "\u001b[1;32mc:\\Users\\Lindsey\\OneDrive - A3DI\\Alive & Thrive\\2_Country_I\\VNM_HH_extract.ipynb Cell 4'\u001b[0m in \u001b[0;36m<cell line: 5>\u001b[1;34m()\u001b[0m\n\u001b[0;32m      <a href='vscode-notebook-cell:/c%3A/Users/Lindsey/OneDrive%20-%20A3DI/Alive%20%26%20Thrive/2_Country_I/VNM_HH_extract.ipynb#ch0000003?line=1'>2</a>\u001b[0m df \u001b[39m=\u001b[39m read_file(country, year, recode)\n\u001b[0;32m      <a href='vscode-notebook-cell:/c%3A/Users/Lindsey/OneDrive%20-%20A3DI/Alive%20%26%20Thrive/2_Country_I/VNM_HH_extract.ipynb#ch0000003?line=3'>4</a>\u001b[0m \u001b[39m# Create HHID to facilitate merge of HH and HL data\u001b[39;00m\n\u001b[1;32m----> <a href='vscode-notebook-cell:/c%3A/Users/Lindsey/OneDrive%20-%20A3DI/Alive%20%26%20Thrive/2_Country_I/VNM_HH_extract.ipynb#ch0000003?line=4'>5</a>\u001b[0m generate_HHID(df, country, year, recode)\n\u001b[0;32m      <a href='vscode-notebook-cell:/c%3A/Users/Lindsey/OneDrive%20-%20A3DI/Alive%20%26%20Thrive/2_Country_I/VNM_HH_extract.ipynb#ch0000003?line=6'>7</a>\u001b[0m \u001b[39m# Standardize column names\u001b[39;00m\n\u001b[0;32m      <a href='vscode-notebook-cell:/c%3A/Users/Lindsey/OneDrive%20-%20A3DI/Alive%20%26%20Thrive/2_Country_I/VNM_HH_extract.ipynb#ch0000003?line=7'>8</a>\u001b[0m df \u001b[39m=\u001b[39m standardize_col_names(df, country, year, recode, var_rename)\n",
      "File \u001b[1;32mc:\\Users\\Lindsey\\OneDrive - A3DI\\Alive & Thrive\\2_Country_I\\std_utils.py:64\u001b[0m, in \u001b[0;36mgenerate_HHID\u001b[1;34m(df, country, year, recode)\u001b[0m\n\u001b[0;32m     61\u001b[0m id1 \u001b[39m=\u001b[39m config_data[\u001b[39m\"\u001b[39m\u001b[39msurvey_dict\u001b[39m\u001b[39m\"\u001b[39m][country][year][recode][\u001b[39m\"\u001b[39m\u001b[39mcluster_id\u001b[39m\u001b[39m\"\u001b[39m]\n\u001b[0;32m     62\u001b[0m id2 \u001b[39m=\u001b[39m config_data[\u001b[39m\"\u001b[39m\u001b[39msurvey_dict\u001b[39m\u001b[39m\"\u001b[39m][country][year][recode][\u001b[39m\"\u001b[39m\u001b[39mhousehold_id\u001b[39m\u001b[39m\"\u001b[39m]\n\u001b[1;32m---> 64\u001b[0m df[\u001b[39m\"\u001b[39m\u001b[39mHHID\u001b[39m\u001b[39m\"\u001b[39m] \u001b[39m=\u001b[39m [create_HHID(i, j) \u001b[39mfor\u001b[39;00m i, j \u001b[39min\u001b[39;00m \u001b[39mzip\u001b[39m(df[id1], df[id2])]\n\u001b[0;32m     66\u001b[0m \u001b[39m# Convert to string\u001b[39;00m\n\u001b[0;32m     67\u001b[0m df[\u001b[39m\"\u001b[39m\u001b[39mHHID\u001b[39m\u001b[39m\"\u001b[39m] \u001b[39m=\u001b[39m df[\u001b[39m\"\u001b[39m\u001b[39mHHID\u001b[39m\u001b[39m\"\u001b[39m]\u001b[39m.\u001b[39mastype(\u001b[39mstr\u001b[39m)\n",
      "File \u001b[1;32mc:\\Users\\Lindsey\\AppData\\Local\\Programs\\Python\\Python310\\lib\\site-packages\\pandas\\core\\frame.py:3505\u001b[0m, in \u001b[0;36mDataFrame.__getitem__\u001b[1;34m(self, key)\u001b[0m\n\u001b[0;32m   3503\u001b[0m \u001b[39mif\u001b[39;00m \u001b[39mself\u001b[39m\u001b[39m.\u001b[39mcolumns\u001b[39m.\u001b[39mnlevels \u001b[39m>\u001b[39m \u001b[39m1\u001b[39m:\n\u001b[0;32m   3504\u001b[0m     \u001b[39mreturn\u001b[39;00m \u001b[39mself\u001b[39m\u001b[39m.\u001b[39m_getitem_multilevel(key)\n\u001b[1;32m-> 3505\u001b[0m indexer \u001b[39m=\u001b[39m \u001b[39mself\u001b[39;49m\u001b[39m.\u001b[39;49mcolumns\u001b[39m.\u001b[39;49mget_loc(key)\n\u001b[0;32m   3506\u001b[0m \u001b[39mif\u001b[39;00m is_integer(indexer):\n\u001b[0;32m   3507\u001b[0m     indexer \u001b[39m=\u001b[39m [indexer]\n",
      "File \u001b[1;32mc:\\Users\\Lindsey\\AppData\\Local\\Programs\\Python\\Python310\\lib\\site-packages\\pandas\\core\\indexes\\base.py:3623\u001b[0m, in \u001b[0;36mIndex.get_loc\u001b[1;34m(self, key, method, tolerance)\u001b[0m\n\u001b[0;32m   3621\u001b[0m     \u001b[39mreturn\u001b[39;00m \u001b[39mself\u001b[39m\u001b[39m.\u001b[39m_engine\u001b[39m.\u001b[39mget_loc(casted_key)\n\u001b[0;32m   3622\u001b[0m \u001b[39mexcept\u001b[39;00m \u001b[39mKeyError\u001b[39;00m \u001b[39mas\u001b[39;00m err:\n\u001b[1;32m-> 3623\u001b[0m     \u001b[39mraise\u001b[39;00m \u001b[39mKeyError\u001b[39;00m(key) \u001b[39mfrom\u001b[39;00m \u001b[39merr\u001b[39;00m\n\u001b[0;32m   3624\u001b[0m \u001b[39mexcept\u001b[39;00m \u001b[39mTypeError\u001b[39;00m:\n\u001b[0;32m   3625\u001b[0m     \u001b[39m# If we have a listlike key, _check_indexing_error will raise\u001b[39;00m\n\u001b[0;32m   3626\u001b[0m     \u001b[39m#  InvalidIndexError. Otherwise we fall through and re-raise\u001b[39;00m\n\u001b[0;32m   3627\u001b[0m     \u001b[39m#  the TypeError.\u001b[39;00m\n\u001b[0;32m   3628\u001b[0m     \u001b[39mself\u001b[39m\u001b[39m.\u001b[39m_check_indexing_error(key)\n",
      "\u001b[1;31mKeyError\u001b[0m: None"
     ]
    }
   ],
   "source": [
    "# Read file\n",
    "df = read_file(country, year, recode)\n",
    "\n",
    "# # Create HHID to facilitate merge of HH and HL data\n",
    "# generate_HHID(df, country, year, recode)\n",
    "\n",
    "# # Standardize column names\n",
    "# df = standardize_col_names(df, country, year, recode, var_rename)\n",
    "\n",
    "# # Standardize column values\n",
    "# df = standardize_col_values(df, country, year, recode, var_replace)\n",
    "\n",
    "# # Save to merge folder\n",
    "# save_merge(df, country, year, recode)"
   ]
  },
  {
   "cell_type": "code",
   "execution_count": null,
   "metadata": {},
   "outputs": [],
   "source": [
    "df.head(1)"
   ]
  },
  {
   "cell_type": "code",
   "execution_count": null,
   "metadata": {},
   "outputs": [],
   "source": [
    "df.MHI1.value_counts(dropna=False)"
   ]
  },
  {
   "cell_type": "code",
   "execution_count": null,
   "metadata": {},
   "outputs": [],
   "source": [
    "# Merge Census 1999 province names on code\n",
    "\n",
    "prov_codes = pd.read_csv(\"census_1999_prov_codes.csv\")\n",
    "prov_codes['Code']\n",
    "\n",
    "df = df.merge(prov_codes, left_on='tinh', right_on='Code', how='left')"
   ]
  },
  {
   "cell_type": "code",
   "execution_count": null,
   "metadata": {},
   "outputs": [],
   "source": []
  }
 ],
 "metadata": {
  "interpreter": {
   "hash": "d1219f75a05e3de399f75b6a0fa3fc1e1cfa3d08777c7149c1fd01787d780976"
  },
  "kernelspec": {
   "display_name": "Python 3.10.4 64-bit",
   "language": "python",
   "name": "python3"
  },
  "language_info": {
   "codemirror_mode": {
    "name": "ipython",
    "version": 3
   },
   "file_extension": ".py",
   "mimetype": "text/x-python",
   "name": "python",
   "nbconvert_exporter": "python",
   "pygments_lexer": "ipython3",
   "version": "3.10.4"
  },
  "orig_nbformat": 4
 },
 "nbformat": 4,
 "nbformat_minor": 2
}

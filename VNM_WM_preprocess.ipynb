{
 "cells": [
  {
   "cell_type": "markdown",
   "metadata": {},
   "source": [
    "# Alive & Thrive\n",
    "## Viet Nam Data: Women Files - Preprocessing\n",
    "## Prepared by Aaron Wise; aaron@a3di.dev\n",
    "### Version: 25 May 2022"
   ]
  },
  {
   "cell_type": "code",
   "execution_count": 1,
   "metadata": {},
   "outputs": [],
   "source": [
    "# %load std_imports\n",
    "from pathlib import Path\n",
    "\n",
    "import numpy as np\n",
    "import pandas as pd\n",
    "\n",
    "import json\n",
    "import pyreadstat\n",
    "\n",
    "from std_utils import (\n",
    "    read_file,\n",
    "    run_quality_assurance,\n",
    "    generate_HHID,\n",
    "    merge_hh_hl_data,\n",
    "    subset_df,\n",
    "    standardize_col_names,\n",
    "    standardize_col_values,\n",
    "    save_merge,\n",
    ")\n",
    "\n",
    "pd.set_option(\"display.max_rows\", 1500)\n",
    "pd.set_option(\"display.max_columns\", None)\n"
   ]
  },
  {
   "cell_type": "code",
   "execution_count": 2,
   "metadata": {},
   "outputs": [],
   "source": [
    "# %load women_imports.py\n",
    "from pathlib import Path\n",
    "\n",
    "import numpy as np\n",
    "import pandas as pd\n",
    "\n",
    "import json\n",
    "import pyreadstat\n",
    "\n",
    "from women_analysis import create_anc_4_visits, create_anc_3_components\n",
    "\n",
    "from aw_analytics import mean_wt, output_mean_table\n",
    "\n",
    "pd.set_option(\"display.max_rows\", 1500)\n",
    "pd.set_option(\"display.max_columns\", None)\n"
   ]
  },
  {
   "cell_type": "code",
   "execution_count": 3,
   "metadata": {},
   "outputs": [],
   "source": [
    "# Set parameters\n",
    "country = 'VNM'\n",
    "recode = 'women'\n",
    "\n",
    "# -------------------------------------------------------------------\n",
    "year = '2021'\n",
    "# -------------------------------------------------------------------\n"
   ]
  },
  {
   "cell_type": "code",
   "execution_count": 4,
   "metadata": {},
   "outputs": [
    {
     "name": "stdout",
     "output_type": "stream",
     "text": [
      "The file -- wm_2021.sav -- has the following shape: Rows: 11294; Columns: 458\n",
      "HHID is NOT unique\n",
      "Drop columns if all values are NaN...\n",
      "Updated -- Rows: 11294; Columns: 450\n",
      "Checking if any rows are duplicates...\n",
      "The are no duplicate rows\n"
     ]
    }
   ],
   "source": [
    "# Read file\n",
    "df = read_file(country, year, recode)\n",
    "\n",
    "# Create HHID to facilitate merge of HH and HL data\n",
    "generate_HHID(df, country, year, recode)\n",
    "\n",
    "# Run quality assurance\n",
    "run_quality_assurance(df)\n",
    "\n",
    "# Merge in HH and HL data\n",
    "df = merge_hh_hl_data(df, country, year)"
   ]
  },
  {
   "cell_type": "code",
   "execution_count": 5,
   "metadata": {},
   "outputs": [
    {
     "name": "stdout",
     "output_type": "stream",
     "text": [
      "(11294, 464)\n",
      "(1566, 464)\n"
     ]
    }
   ],
   "source": [
    "# Select completed questionnaires (WM17) and birth in past two years (CM17)\n",
    "print(df.shape)\n",
    "df = df[(df['WM17'] == \"COMPLETED\") & (df['CM17'] == \"ONE OR MORE LIVE BIRTHS IN THE LAST 2 YEARS\")]\n",
    "print(df.shape)"
   ]
  },
  {
   "cell_type": "markdown",
   "metadata": {},
   "source": [
    "#### Create Outcome Indicators"
   ]
  },
  {
   "cell_type": "code",
   "execution_count": 6,
   "metadata": {},
   "outputs": [],
   "source": [
    "# --- ANC 4+ visits [anc_4_visits] --- #\n",
    "create_anc_4_visits(df, country, year)"
   ]
  },
  {
   "cell_type": "code",
   "execution_count": 7,
   "metadata": {},
   "outputs": [],
   "source": [
    "# --- ANC components [anc_3_components] --- #\n",
    "\n",
    "create_anc_3_components(df, country, year)"
   ]
  },
  {
   "cell_type": "code",
   "execution_count": null,
   "metadata": {},
   "outputs": [],
   "source": [
    "# --- Institutional [inst_delivery] --- #\n",
    "\n",
    "## Create categories\n",
    "inst_delivery_options = ['PUBLIC HOSPITAL', 'PRIVATE HOSPITAL', 'COMMUNE HEALTH CENTRE',\n",
    " 'LOCAL CLINIC', 'HOSPITAL OF A MINISTRY OR A SECTOR', 'OTHER PRIVATE MEDICAL']\n",
    "\n",
    "# Create indicator\n",
    "df['inst_delivery'] = np.where(df['MN20'].isin(inst_delivery_options), 100, 0)"
   ]
  },
  {
   "cell_type": "code",
   "execution_count": 10,
   "metadata": {},
   "outputs": [
    {
     "data": {
      "text/html": [
       "<div>\n",
       "<style scoped>\n",
       "    .dataframe tbody tr th:only-of-type {\n",
       "        vertical-align: middle;\n",
       "    }\n",
       "\n",
       "    .dataframe tbody tr th {\n",
       "        vertical-align: top;\n",
       "    }\n",
       "\n",
       "    .dataframe thead th {\n",
       "        text-align: right;\n",
       "    }\n",
       "</style>\n",
       "<table border=\"1\" class=\"dataframe\">\n",
       "  <thead>\n",
       "    <tr style=\"text-align: right;\">\n",
       "      <th></th>\n",
       "      <th>anc_3_components</th>\n",
       "      <th>Weighted_Count</th>\n",
       "    </tr>\n",
       "    <tr>\n",
       "      <th>HH6</th>\n",
       "      <th></th>\n",
       "      <th></th>\n",
       "    </tr>\n",
       "  </thead>\n",
       "  <tbody>\n",
       "    <tr>\n",
       "      <th>RURAL</th>\n",
       "      <td>68.8</td>\n",
       "      <td>987.2</td>\n",
       "    </tr>\n",
       "    <tr>\n",
       "      <th>URBAN</th>\n",
       "      <td>85.6</td>\n",
       "      <td>449.2</td>\n",
       "    </tr>\n",
       "  </tbody>\n",
       "</table>\n",
       "</div>"
      ],
      "text/plain": [
       "       anc_3_components  Weighted_Count\n",
       "HH6                                    \n",
       "RURAL              68.8           987.2\n",
       "URBAN              85.6           449.2"
      ]
     },
     "execution_count": 10,
     "metadata": {},
     "output_type": "execute_result"
    }
   ],
   "source": [
    "var = 'anc_3_components'\n",
    "ind_vars = ['HH6']\n",
    "wt = 'wmweight'\n",
    "\n",
    "output_mean_table(df, var, ind_vars, wt)"
   ]
  },
  {
   "cell_type": "code",
   "execution_count": null,
   "metadata": {},
   "outputs": [],
   "source": [
    "# --- Caesarean Delivery [caesarean_del] --- #\n",
    "\n",
    "# Create indicator\n",
    "df['caesarean_del'] = np.where(df['MN21'] == 'YES', 100, 0)"
   ]
  },
  {
   "cell_type": "code",
   "execution_count": null,
   "metadata": {},
   "outputs": [],
   "source": [
    "# --- Post-natal Health Check (mother) [pnc_mother] --- #\n",
    "\n",
    "## Health check by health provider after birth & a) before leaving facility (PN5) or b) before health provider left home (PN9)\n",
    "\n",
    "## Create sub-indicator\n",
    "df['health_check_after_birth'] = np.where(((df['PN5'] == 'YES') | (df['PN9'] == 'YES')), 100, 0)\n",
    "\n",
    "## Seprate PNC visit by health provider (PN22U and PN22N)\n",
    "\n",
    "## Post-natal care visit within 2 days ##\n",
    "\n",
    "### Convert PN22N to float\n",
    "df['PN21N'] = np.where(df['PN22N'] == 'DK', '99.0', df['PN22N'])\n",
    "df['PN22N'] = df['PN22N'].astype(float)\n",
    "\n",
    "## Create sub-indicator\n",
    "df['pnc_2_days'] = np.where((df['PN22U'] == 'Hours') | ((df['PN22U'] == 'Days') & (df['PN22N'] <= 2)), 100, 0)\n",
    "\n",
    "### Set value pnc_2_days to 0 IF check was not done by health provider\n",
    "df['pnc_health_provider'] = np.where((df['PN23A'] == 'DOCTOR') | (df['PN23B'] == 'NURSE / MIDWIFE') |\\\n",
    "     (df['PN23F'] == 'TRADITIONAL BIRTH ATTENDANT') | (df['PN23G'] == 'COMMUNITY HEALTH WORKER'), 100, 0)\n",
    "\n",
    "df['pnc_2_days'] = np.where((df['pnc_health_provider'] == 100), df['pnc_2_days'], 0)\n",
    "\n",
    "# Create indicator\n",
    "df['pnc_mother'] = np.where((df['health_check_after_birth'] == 100) | (df['pnc_2_days'] == 100), 100, 0)"
   ]
  },
  {
   "cell_type": "code",
   "execution_count": null,
   "metadata": {},
   "outputs": [],
   "source": [
    "# --- Low birthweight [low_bw] --- #\n",
    "\n",
    "## Convert categorical column to int\n",
    "\n",
    "### Convert DK and NaN to 99\n",
    "df['MN34'] = np.where(df['MN34'] == 'DK', 'NaN', df['MN34'])\n",
    "\n",
    "### Cast value to float \n",
    "df['MN34'] = df['MN34'].astype(float)\n",
    "\n",
    "# Create indicator\n",
    "df['low_bw'] = np.where(df['MN34'] < 2.5, 100, 0)\n",
    "df['low_bw'] = np.where(df['MN34'].isnull(), np.nan, df['low_bw'])"
   ]
  },
  {
   "cell_type": "code",
   "execution_count": null,
   "metadata": {},
   "outputs": [],
   "source": [
    "# --- Early Initiation BF [early_bf] --- #\n",
    "## Convert categorical column to int\n",
    "\n",
    "### Convert DK to 0\n",
    "df['MN37N'] = np.where(df['MN37N'] == 'IMMEDIATELY', '0.0', df['MN37N'])\n",
    "df['MN37N'] = np.where(df['MN37N'] == 'DK / DON’T REMEMBER', '99.0', df['MN37N'])\n",
    "\n",
    "### Cast value to float \n",
    "df['MN37N'] = df['MN37N'].astype(float)\n",
    "\n",
    "# Create indicator\n",
    "df['early_bf'] = np.where(df['MN37N'] < 1, 100, 0)"
   ]
  },
  {
   "cell_type": "code",
   "execution_count": null,
   "metadata": {},
   "outputs": [],
   "source": [
    "# Weighted mean\n",
    "wt = ['wmweight']\n",
    "var = 'early_bf'\n",
    "ind_vars = ['HH7']\n",
    "\n",
    "output_mean_table(df, var, ind_vars, wt)"
   ]
  },
  {
   "cell_type": "markdown",
   "metadata": {},
   "source": [
    "#### Create Equity Stratifiers"
   ]
  },
  {
   "cell_type": "code",
   "execution_count": null,
   "metadata": {},
   "outputs": [],
   "source": [
    "# --- Residence --- #\n",
    "df['residence'] = np.where(df['HH6'] == 'RURAL', 'Rural', 'Urban')\n",
    "\n",
    "# --- Location --- #\n",
    "\n",
    "## Combine region value with city value\n",
    "df['region_comb'] = df['HH7']\n",
    "df['region_comb'] = np.where(df['HH7A'] == 'Ha Noi', 'Ha Noi', df['region_comb'])\n",
    "df['region_comb'] = np.where(df['HH7A'] == 'Ho Chi Minh city', 'Ho Chi Minh city', df['region_comb'])\n",
    "\n",
    "# --- Mother's education --- #\n",
    "\n",
    "## Create categories\n",
    "conditions = [\n",
    "    ((df['WB6A'].isnull()) | (df['WB6A'] == 'ECE')),\n",
    "    (df['WB6A'] == 'PRIMARY'),\n",
    "    ((df['WB6A'] == 'LOWER SECONDARY') | (df['WB6A'] == 'UPPER SECONDARY') |\n",
    "     (df['WB6A'] == 'VOCATIONAL HIGH SCHOOL')),\n",
    "    (df['WB6A'] == 'UNIVERSITY/ COLLEGE OR HIGHER')\n",
    "]\n",
    "choices = ['Edu HoH: None', 'Edu HoH: Primary', 'Edu HoH: Secondary', 'Edu HoH: Higher']\n",
    "df['mother_edu'] = np.select(conditions, choices)\n",
    "\n",
    "# --- Ethnicity of HoH --- #\n",
    "df['ethn_hoh'] = df['ethnicity']\n",
    "\n",
    "# --- Female HoH --- #\n",
    "df['sex_HoH'] = np.where(df['HL4'] == 'FEMALE', 'Sex HoH: Female', 'Sex HoH: Male')\n",
    "\n",
    "# --- Elderly HoH --- #\n",
    "### Convert 95+\n",
    "df['HL6'] = np.where(df['HL6'] == '95+', 'NaN', df['HL6'])\n",
    "\n",
    "### Cast value to float \n",
    "df['HL6'] = df['HL6'].astype(float)\n",
    "\n",
    "df['elderly_HoH'] = np.where(df['HL6'] >= 60, 'Elderly HoH: YES', 'Elderly HoH: NO')"
   ]
  },
  {
   "cell_type": "markdown",
   "metadata": {},
   "source": [
    "#### Subset and export working dataset"
   ]
  },
  {
   "cell_type": "code",
   "execution_count": null,
   "metadata": {},
   "outputs": [],
   "source": [
    "# Identify and select columns for working dataset\n",
    "working_var_idx = df.columns.get_loc('Total')\n",
    "working_var_cols = df.columns[working_var_idx:-1].to_list()\n",
    "\n",
    "# Add weight variable\n",
    "working_var_cols = working_var_cols + ['wmweight']\n",
    "\n",
    "# Subeset the dataframe\n",
    "out_df = df[working_var_cols]\n",
    "\n",
    "# Generate out_filepath\n",
    "out_file = recode.split('.')[0] + '_subset' + '.csv'\n",
    "out_filepath = datadir.joinpath('clean').joinpath(out_file)\n",
    "\n",
    "# Save as csv\n",
    "out_df.to_csv(out_filepath, index=False)"
   ]
  },
  {
   "cell_type": "markdown",
   "metadata": {},
   "source": [
    "### ---- 2014 ----"
   ]
  },
  {
   "cell_type": "code",
   "execution_count": null,
   "metadata": {},
   "outputs": [],
   "source": [
    "# Identify data file of interest\n",
    "recode = 'wm_2014.sav'\n",
    "\n",
    "data_filepath = datadir.joinpath(recode)\n",
    "\n",
    "print(data_filepath)"
   ]
  },
  {
   "cell_type": "code",
   "execution_count": null,
   "metadata": {},
   "outputs": [],
   "source": [
    "# Read in data\n",
    "df = pd.read_spss(data_filepath)\n",
    "\n",
    "df.shape"
   ]
  },
  {
   "cell_type": "code",
   "execution_count": null,
   "metadata": {},
   "outputs": [],
   "source": [
    "print(f'Rows: {df.shape[0]}; Columns: {df.shape[1]}')\n",
    "\n",
    "# Drop column if all NaN\n",
    "df = df.dropna(axis='columns', how='all')\n",
    "print('Cleaning columns with NaN...')\n",
    "\n",
    "print(f'Updated -- Rows: {df.shape[0]}; Columns: {df.shape[1]}')"
   ]
  },
  {
   "cell_type": "code",
   "execution_count": null,
   "metadata": {},
   "outputs": [],
   "source": [
    "# Check if any lines are duplicates\n",
    "print('The are no duplicate rows: ' + str(sum(df.duplicated()) == 0))\n",
    "\n",
    "# Find duplicate rows\n",
    "print(f'There are {df.duplicated().sum()} duplicates in the dataset')"
   ]
  },
  {
   "cell_type": "code",
   "execution_count": null,
   "metadata": {},
   "outputs": [],
   "source": [
    "# Select completed questionnaires (WM7) and birth in past two years (CM113)\n",
    "print(df.shape)\n",
    "df = df[(df['WM7'] == \"Completed\") & (df['CM13'] == \"Yes\")]\n",
    "print(df.shape)"
   ]
  },
  {
   "cell_type": "code",
   "execution_count": null,
   "metadata": {},
   "outputs": [],
   "source": [
    "# Add Total column\n",
    "df['Total'] = 'Total'\n",
    "\n",
    "# Add Year column\n",
    "df['Year'] = '2014'"
   ]
  },
  {
   "cell_type": "code",
   "execution_count": null,
   "metadata": {},
   "outputs": [],
   "source": [
    "# Merge in Sex HoH, Age HoH from HH recode\n",
    "\n",
    "# zfill front of HH1, HH2 and concatenate to create unique HHID\n",
    "df['HH1'] = df['HH1'].astype(str).str.strip().str.replace('.', '-').str.replace('-0', '').str.zfill(3)\n",
    "df['HH2'] = df['HH2'].astype(str).str.strip().str.replace('.', '-').str.replace('-0', '').str.zfill(2)\n",
    "\n",
    "df['HHID'] = df['HH1'] + df['HH2']\n",
    "\n",
    "# Merge Age_HoH and Sex_HoH\n",
    "hh_merge_df = pd.read_csv('./merge/hh_merge_2014.csv', dtype={'HHID': 'string'})\n",
    "df = df[:].merge(hh_merge_df, on='HHID', how='left')"
   ]
  },
  {
   "cell_type": "markdown",
   "metadata": {},
   "source": [
    "### Create Outcome Indicators"
   ]
  },
  {
   "cell_type": "code",
   "execution_count": null,
   "metadata": {},
   "outputs": [],
   "source": [
    "# --- ANC 4+ visits [anc_4_visits] --- #\n",
    "\n",
    "## Convert categorical column to int\n",
    "\n",
    "### Convert DK and NaN to 99\n",
    "df['MN3'] = np.where(df['MN3'] == 'DK', '99.0', df['MN3'])\n",
    "\n",
    "### Cast value to float \n",
    "df['MN3'] = df['MN3'].astype(float)\n",
    "\n",
    "## Create categories\n",
    "conditions = [\n",
    "    (df['MN3'] == 0),\n",
    "    ((df['MN3'] >= 1) & (df['MN3'] <= 3)),\n",
    "    (df['MN3'] >= 4) &(df['MN3'] < 99),\n",
    "    (df['MN3'] >= 99)\n",
    "]\n",
    "choices = ['None', '1-3 visits', '4+ visits', 'DK/Missing']\n",
    "df['anc_no_visits'] = np.select(conditions, choices)\n",
    "\n",
    "# Create indicator\n",
    "df['anc_4_visits'] = np.where(df.anc_no_visits == '4+ visits', 100, 0)"
   ]
  },
  {
   "cell_type": "code",
   "execution_count": null,
   "metadata": {},
   "outputs": [],
   "source": [
    "# --- ANC components [anc_3_components] --- #\n",
    "\n",
    "# Create indicator\n",
    "df['anc_3_components'] = np.where((df.MN4A == 'Yes') & (df.MN4B == 'Yes') & (df.MN4C == 'Yes'), 100, 0)"
   ]
  },
  {
   "cell_type": "code",
   "execution_count": null,
   "metadata": {},
   "outputs": [],
   "source": [
    "# --- Institutional [inst_delivery] --- #\n",
    "\n",
    "## Create categories\n",
    "inst_delivery_options = ['Government hospital', 'Private hospital', 'Commune health centre', \n",
    "'Private clinic', 'Policlinic', 'Other public', 'Private maternity home']\n",
    "\n",
    "# Create indicator\n",
    "df['inst_delivery'] = np.where(df['MN18'].isin(inst_delivery_options), 100, 0)"
   ]
  },
  {
   "cell_type": "code",
   "execution_count": null,
   "metadata": {},
   "outputs": [],
   "source": [
    "# --- Caesarean Delivery [caesarean_del] --- #\n",
    "\n",
    "# Create indicator\n",
    "df['caesarean_del'] = np.where(df['MN19'] == 'Yes', 100, 0)"
   ]
  },
  {
   "cell_type": "code",
   "execution_count": null,
   "metadata": {},
   "outputs": [],
   "source": [
    "# --- Post-natal Health Check (mother) [pnc_mother] --- #\n",
    "\n",
    "## Health check by health provider after birth & a) before leaving facility (PN4) or b) before health provider left home (PN8)\n",
    "\n",
    "## Create sub-indicator\n",
    "df['health_check_after_birth'] = np.where(((df['PN4'] == 'Yes') | (df['PN8'] == 'Yes')), 100, 0)\n",
    "\n",
    "## Seprate PNC visit by health provider (PN21U and PN21N)\n",
    "\n",
    "## Post-natal care visit within 2 days ##\n",
    "\n",
    "### Convert PN21N to float\n",
    "df['PN21N'] = np.where(df['PN21N'] == 'DK', '99.0', df['PN21N'])\n",
    "df['PN21N'] = df['PN21N'].astype(float)\n",
    "\n",
    "## Create sub-indicator\n",
    "df['pnc_2_days'] = np.where((df['PN21U'] == 'Hours') | ((df['PN21U'] == 'Days') & (df['PN21N'] <= 2)), 100, 0)\n",
    "\n",
    "### Set value pnc_2_days to 0 IF check was not done by health provider\n",
    "df['pnc_health_provider'] = np.where((df['PN22A'] == 'Doctor') | (df['PN22B'] == 'Nurse / Midwife') |\\\n",
    "     (df['PN22F'] == 'Traditional birth attendant') | (df['PN22G'] == 'Village health worker'), 100, 0)\n",
    "\n",
    "df['pnc_2_days'] = np.where((df['pnc_health_provider'] == 100), df['pnc_2_days'], 0)\n",
    "\n",
    "# Create indicator\n",
    "df['pnc_mother'] = np.where((df['health_check_after_birth'] == 100) | (df['pnc_2_days'] == 100), 100, 0)"
   ]
  },
  {
   "cell_type": "code",
   "execution_count": null,
   "metadata": {},
   "outputs": [],
   "source": [
    "########### NEED TO FIX !!!!! CHECK CITED REFERENCE IN 2014 REPORT ##########\n",
    "\n",
    "# --- Low birthweight [low_bw] --- #\n",
    "\n",
    "## Convert categorical column to int\n",
    "\n",
    "### Convert DK and NaN to 99\n",
    "df['MN22'] = np.where(df['MN22'] == 'DK', 'NaN', df['MN22'])\n",
    "\n",
    "### Cast value to float \n",
    "df['MN22'] = df['MN22'].astype(float)\n",
    "\n",
    "# Create indicator\n",
    "df['low_bw'] = np.where(df['MN22'] < 2.5, 100, 0)\n",
    "df['low_bw'] = np.where(df['MN22'].isnull(), np.nan, df['low_bw'])"
   ]
  },
  {
   "cell_type": "code",
   "execution_count": null,
   "metadata": {},
   "outputs": [],
   "source": [
    "# --- Early Initiation BF [early_bf] --- #\n",
    "### Convert MN25N to float\n",
    "df['MN25N'] = np.where(df['MN25N'] == 'DK', '999.0', df['MN25N'])\n",
    "df['MN25N'] = df['MN25N'].astype(float)\n",
    "\n",
    "# Create indicator\n",
    "df['early_bf'] = np.where((df['MN25U'] == 'Immediately') | ((df['MN25U'] == 'Hours') & (df['MN25N'] < 1)), 100, 0)"
   ]
  },
  {
   "cell_type": "markdown",
   "metadata": {},
   "source": [
    "### Create Equity Stratifiers"
   ]
  },
  {
   "cell_type": "code",
   "execution_count": null,
   "metadata": {},
   "outputs": [],
   "source": [
    "df.head(1)"
   ]
  },
  {
   "cell_type": "code",
   "execution_count": null,
   "metadata": {},
   "outputs": [],
   "source": [
    "df.ethnicity.value_counts(dropna=False)"
   ]
  },
  {
   "cell_type": "code",
   "execution_count": null,
   "metadata": {},
   "outputs": [],
   "source": [
    "# --- Residence --- #\n",
    "df['residence'] = np.where(df['HH6'] == 'Rural', 'Rural', 'Urban')\n",
    "\n",
    "# # --- Location --- #\n",
    "\n",
    "# ## Combine region value with city value\n",
    "# df['region_comb'] = df['HH7']\n",
    "# df['region_comb'] = np.where(df['HH7A'] == 'Ha Noi', 'Ha Noi', df['region_comb'])\n",
    "# df['region_comb'] = np.where(df['HH7A'] == 'Ho Chi Minh city', 'Ho Chi Minh city', df['region_comb'])\n",
    "\n",
    "# --- Mother's education --- #\n",
    "\n",
    "## Create categories\n",
    "conditions = [\n",
    "    ((df['WB4'].isnull()) | (df['WB4'] == 'Preschool')),\n",
    "    (df['WB4'] == 'Primary'),\n",
    "    ((df['WB4'] == 'Lower Secondary') | (df['WB4'] == 'Upper Secondary') |\n",
    "     (df['WB4'] == 'Professional School')),\n",
    "    (df['WB4'] == 'College/University & above')\n",
    "]\n",
    "choices = ['Edu HoH: None', 'Edu HoH: Primary', 'Edu HoH: Secondary', 'Edu HoH: Higher']\n",
    "df['mother_edu'] = np.select(conditions, choices)\n",
    "\n",
    "# --- Ethnicity of HoH --- #\n",
    "df['ethn_hoh'] = df['ethnicity']\n",
    "\n",
    "# --- Female HoH --- #\n",
    "df['sex_HoH'] = np.where(df['HL4'] == 'FEMALE', 'Sex HoH: Female', 'Sex HoH: Male')\n",
    "\n",
    "# --- Elderly HoH --- #\n",
    "### Convert 95+\n",
    "df['HL6'] = np.where(df['HL6'] == '95+', 'NaN', df['HL6'])\n",
    "\n",
    "### Cast value to float \n",
    "df['HL6'] = df['HL6'].astype(float)\n",
    "\n",
    "df['elderly_HoH'] = np.where(df['HL6'] >= 60, 'Elderly HoH: YES', 'Elderly HoH: NO')"
   ]
  },
  {
   "cell_type": "code",
   "execution_count": null,
   "metadata": {},
   "outputs": [],
   "source": [
    "# Weighted mean\n",
    "wt = ['wmweight']\n",
    "var = 'early_bf'\n",
    "ind_vars = ['HH7']\n",
    "\n",
    "output_mean_table(df, var, ind_vars, wt)"
   ]
  },
  {
   "cell_type": "code",
   "execution_count": null,
   "metadata": {},
   "outputs": [],
   "source": []
  }
 ],
 "metadata": {
  "interpreter": {
   "hash": "d1219f75a05e3de399f75b6a0fa3fc1e1cfa3d08777c7149c1fd01787d780976"
  },
  "kernelspec": {
   "display_name": "Python 3.10.4 64-bit",
   "language": "python",
   "name": "python3"
  },
  "language_info": {
   "codemirror_mode": {
    "name": "ipython",
    "version": 3
   },
   "file_extension": ".py",
   "mimetype": "text/x-python",
   "name": "python",
   "nbconvert_exporter": "python",
   "pygments_lexer": "ipython3",
   "version": "3.10.4"
  },
  "orig_nbformat": 4
 },
 "nbformat": 4,
 "nbformat_minor": 2
}

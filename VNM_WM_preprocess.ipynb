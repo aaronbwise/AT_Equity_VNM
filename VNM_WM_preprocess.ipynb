{
 "cells": [
  {
   "cell_type": "markdown",
   "metadata": {},
   "source": [
    "# Alive & Thrive\n",
    "## Viet Nam Data: Women Files - Preprocessing\n",
    "## Prepared by Aaron Wise; aaron@a3di.dev\n",
    "### Version: 25 May 2022"
   ]
  },
  {
   "cell_type": "code",
   "execution_count": 39,
   "metadata": {},
   "outputs": [],
   "source": [
    "# %load std_imports\n",
    "from pathlib import Path\n",
    "\n",
    "import numpy as np\n",
    "import pandas as pd\n",
    "\n",
    "import json\n",
    "import pyreadstat\n",
    "\n",
    "from std_utils import (\n",
    "    read_spss_file,\n",
    "    run_quality_assurance,\n",
    "    generate_HHID,\n",
    "    add_total_year,\n",
    "    merge_hh_hl_data,\n",
    "    subset_hl_df,\n",
    "    standardize_col_names,\n",
    "    standardize_col_values,\n",
    "    create_elderly_hoh,\n",
    "    save_merge,\n",
    "    export_analyzed_data\n",
    ")\n",
    "\n",
    "pd.set_option(\"display.max_rows\", 1500)\n",
    "pd.set_option(\"display.max_columns\", None)\n"
   ]
  },
  {
   "cell_type": "code",
   "execution_count": 40,
   "metadata": {},
   "outputs": [],
   "source": [
    "# %load women_imports.py\n",
    "from women_analysis import (\n",
    "    generate_WMID,\n",
    "    generate_str_replace_dict,\n",
    "    create_anc_4_visits,\n",
    "    create_anc_3_components,\n",
    "    create_inst_delivery,\n",
    "    create_caesarean_del,\n",
    "    create_pnc_mother,\n",
    "    create_low_bw,\n",
    "    create_early_bf,\n",
    "    create_mother_edu,\n",
    "    subset_women_file\n",
    ")\n",
    "\n",
    "from aw_analytics import mean_wt, output_mean_table\n"
   ]
  },
  {
   "cell_type": "markdown",
   "metadata": {},
   "source": [
    "### --- 2021 ---"
   ]
  },
  {
   "cell_type": "code",
   "execution_count": 34,
   "metadata": {},
   "outputs": [],
   "source": [
    "# Set parameters\n",
    "country = 'VNM'\n",
    "recode = 'women'\n",
    "\n",
    "# -------------------------------------------------------------------\n",
    "year = '2021'\n",
    "# -------------------------------------------------------------------"
   ]
  },
  {
   "cell_type": "code",
   "execution_count": 35,
   "metadata": {},
   "outputs": [
    {
     "name": "stdout",
     "output_type": "stream",
     "text": [
      "The file -- wm_2021.sav -- has the following shape: Rows: 11294; Columns: 458\n",
      "HHID is NOT unique\n",
      "WMID is unique\n",
      "Drop columns if all values are NaN...\n",
      "Updated -- Rows: 11294; Columns: 451\n",
      "Checking if any rows are duplicates...\n",
      "The are no duplicate rows\n",
      "The number of mothers with a birth in the past two years is: 1566\n"
     ]
    }
   ],
   "source": [
    "# Read file\n",
    "df = read_spss_file(country, year, recode)\n",
    "\n",
    "# Create HHID to facilitate merge of HH and HL data\n",
    "generate_HHID(df, country, year, recode)\n",
    "\n",
    "# Create WMID to facilitate merge into U5 file\n",
    "generate_WMID(df, country, year)\n",
    "\n",
    "# Add Total, Year\n",
    "add_total_year(df, year)\n",
    "\n",
    "# Run quality assurance\n",
    "run_quality_assurance(df)\n",
    "\n",
    "# Merge in HH and HL data\n",
    "df = merge_hh_hl_data(df, country, year)\n",
    "\n",
    "# Subset women file\n",
    "df = subset_women_file(df, country, year)"
   ]
  },
  {
   "cell_type": "code",
   "execution_count": 38,
   "metadata": {},
   "outputs": [
    {
     "data": {
      "text/plain": [
       "1543"
      ]
     },
     "execution_count": 38,
     "metadata": {},
     "output_type": "execute_result"
    }
   ],
   "source": [
    "df.HHID.nunique()"
   ]
  },
  {
   "cell_type": "markdown",
   "metadata": {},
   "source": [
    "#### Create Indicators"
   ]
  },
  {
   "cell_type": "code",
   "execution_count": null,
   "metadata": {},
   "outputs": [],
   "source": [
    "# --- Create Mother edu [mother_edu] --- #\n",
    "df = create_mother_edu(df, country, year)"
   ]
  },
  {
   "cell_type": "code",
   "execution_count": null,
   "metadata": {},
   "outputs": [],
   "source": [
    "# --- ANC 4+ visits [anc_4_visits] --- #\n",
    "df = create_anc_4_visits(df, country, year)\n",
    "\n",
    "# --- ANC components [anc_3_components] --- #\n",
    "df = create_anc_3_components(df, country, year)\n",
    "\n",
    "# --- Institutional [inst_delivery] --- #\n",
    "df = create_inst_delivery(df, country, year)\n",
    "\n",
    "# --- Caesarean Delivery [caesarean_del] --- #\n",
    "df = create_caesarean_del(df, country, year)\n",
    "\n",
    "# Post-natal Health Check (mother) [pnc_mother]\n",
    "df = create_pnc_mother(df, country, year)\n",
    "\n",
    "# --- Low birthweight [low_bw] --- #\n",
    "df = create_low_bw(df, country, year)\n",
    "\n",
    "# --- Early Initiation BF [early_bf] --- #\n",
    "df = create_early_bf(df, country, year)"
   ]
  },
  {
   "cell_type": "markdown",
   "metadata": {},
   "source": [
    "### Export working variables"
   ]
  },
  {
   "cell_type": "code",
   "execution_count": null,
   "metadata": {},
   "outputs": [],
   "source": [
    "export_analyzed_data(df, country, year, recode)"
   ]
  },
  {
   "cell_type": "markdown",
   "metadata": {},
   "source": [
    "### --- 2014 ---"
   ]
  },
  {
   "cell_type": "code",
   "execution_count": null,
   "metadata": {},
   "outputs": [],
   "source": [
    "# Set parameters\n",
    "country = 'VNM'\n",
    "recode = 'women'\n",
    "\n",
    "# -------------------------------------------------------------------\n",
    "year = '2014'\n",
    "# -------------------------------------------------------------------"
   ]
  },
  {
   "cell_type": "code",
   "execution_count": null,
   "metadata": {},
   "outputs": [],
   "source": [
    "# Read file\n",
    "df = read_spss_file(country, year, recode)\n",
    "\n",
    "# Create HHID to facilitate merge of HH and HL data\n",
    "generate_HHID(df, country, year, recode)\n",
    "\n",
    "# Create WMID to facilitate merge into U5 file\n",
    "generate_WMID(df, country, year)\n",
    "\n",
    "# Add Total, Year\n",
    "add_total_year(df, year)\n",
    "\n",
    "# Run quality assurance\n",
    "run_quality_assurance(df)\n",
    "\n",
    "# Merge in HH and HL data\n",
    "df = merge_hh_hl_data(df, country, year)\n",
    "\n",
    "# Subset women file\n",
    "df = subset_women_file(df, country, year)"
   ]
  },
  {
   "cell_type": "code",
   "execution_count": null,
   "metadata": {},
   "outputs": [],
   "source": [
    "# --- Create Mother edu [mother_edu] --- #\n",
    "df = create_mother_edu(df, country, year)"
   ]
  },
  {
   "cell_type": "code",
   "execution_count": null,
   "metadata": {},
   "outputs": [],
   "source": [
    "# --- ANC 4+ visits [anc_4_visits] --- #\n",
    "df = create_anc_4_visits(df, country, year)\n",
    "\n",
    "# --- ANC components [anc_3_components] --- #\n",
    "df = create_anc_3_components(df, country, year)\n",
    "\n",
    "# --- Institutional [inst_delivery] --- #\n",
    "df = create_inst_delivery(df, country, year)\n",
    "\n",
    "# --- Caesarean Delivery [caesarean_del] --- #\n",
    "df = create_caesarean_del(df, country, year)\n",
    "\n",
    "# Post-natal Health Check (mother) [pnc_mother]\n",
    "df = create_pnc_mother(df, country, year)\n",
    "\n",
    "# --- Low birthweight [low_bw] --- #\n",
    "df = create_low_bw(df, country, year)\n",
    "\n",
    "# --- Early Initiation BF [early_bf] --- #\n",
    "df = create_early_bf(df, country, year)"
   ]
  },
  {
   "cell_type": "markdown",
   "metadata": {},
   "source": [
    "#### Export working variables"
   ]
  },
  {
   "cell_type": "code",
   "execution_count": null,
   "metadata": {},
   "outputs": [],
   "source": [
    "export_analyzed_data(df, country, year, recode)"
   ]
  },
  {
   "cell_type": "markdown",
   "metadata": {},
   "source": [
    "### --- 2011 ---"
   ]
  },
  {
   "cell_type": "code",
   "execution_count": null,
   "metadata": {},
   "outputs": [],
   "source": [
    "# Set parameters\n",
    "country = 'VNM'\n",
    "recode = 'women'\n",
    "\n",
    "# -------------------------------------------------------------------\n",
    "year = '2011'\n",
    "# -------------------------------------------------------------------"
   ]
  },
  {
   "cell_type": "code",
   "execution_count": null,
   "metadata": {},
   "outputs": [],
   "source": [
    "# Read file\n",
    "df = read_spss_file(country, year, recode)\n",
    "\n",
    "# Create HHID to facilitate merge of HH and HL data\n",
    "generate_HHID(df, country, year, recode)\n",
    "\n",
    "# Create WMID to facilitate merge into U5 file\n",
    "generate_WMID(df, country, year)\n",
    "\n",
    "# Add Total, Year\n",
    "add_total_year(df, year)\n",
    "\n",
    "# Run quality assurance\n",
    "run_quality_assurance(df)\n",
    "\n",
    "# Merge in HH and HL data\n",
    "df = merge_hh_hl_data(df, country, year)\n",
    "\n",
    "# Subset women file\n",
    "df = subset_women_file(df, country, year)"
   ]
  },
  {
   "cell_type": "markdown",
   "metadata": {},
   "source": [
    "#### Create Indicators"
   ]
  },
  {
   "cell_type": "code",
   "execution_count": null,
   "metadata": {},
   "outputs": [],
   "source": [
    "# --- Create Mother edu [mother_edu] --- #\n",
    "df = create_mother_edu(df, country, year)"
   ]
  },
  {
   "cell_type": "code",
   "execution_count": null,
   "metadata": {},
   "outputs": [],
   "source": [
    "# --- ANC 4+ visits [anc_4_visits] --- #\n",
    "df = create_anc_4_visits(df, country, year)\n",
    "\n",
    "# --- ANC components [anc_3_components] --- #\n",
    "df = create_anc_3_components(df, country, year)\n",
    "\n",
    "# --- Institutional [inst_delivery] --- #\n",
    "df = create_inst_delivery(df, country, year)\n",
    "\n",
    "# --- Caesarean Delivery [caesarean_del] --- #\n",
    "df = create_caesarean_del(df, country, year)\n",
    "\n",
    "# # Post-natal Health Check (mother) [pnc_mother]\n",
    "# df = create_pnc_mother(df, country, year)\n",
    "\n",
    "# --- Low birthweight [low_bw] --- #\n",
    "df = create_low_bw(df, country, year)\n",
    "\n",
    "# --- Early Initiation BF [early_bf] --- #\n",
    "df = create_early_bf(df, country, year)"
   ]
  },
  {
   "cell_type": "markdown",
   "metadata": {},
   "source": [
    "### Export working variables"
   ]
  },
  {
   "cell_type": "code",
   "execution_count": null,
   "metadata": {},
   "outputs": [],
   "source": [
    "export_analyzed_data(df, country, year, recode)"
   ]
  },
  {
   "cell_type": "markdown",
   "metadata": {},
   "source": [
    "### --- 2006 ---"
   ]
  },
  {
   "cell_type": "code",
   "execution_count": null,
   "metadata": {},
   "outputs": [],
   "source": [
    "# Set parameters\n",
    "country = 'VNM'\n",
    "recode = 'women'\n",
    "\n",
    "# -------------------------------------------------------------------\n",
    "year = '2006'\n",
    "# -------------------------------------------------------------------"
   ]
  },
  {
   "cell_type": "code",
   "execution_count": null,
   "metadata": {},
   "outputs": [],
   "source": [
    "# Read file\n",
    "df = read_spss_file(country, year, recode)\n",
    "\n",
    "# Create HHID to facilitate merge of HH and HL data\n",
    "generate_HHID(df, country, year, recode)\n",
    "\n",
    "# Create WMID to facilitate merge into U5 file\n",
    "generate_WMID(df, country, year)\n",
    "\n",
    "# Add Total, Year\n",
    "add_total_year(df, year)\n",
    "\n",
    "# Run quality assurance\n",
    "run_quality_assurance(df)\n",
    "\n",
    "# Merge in HH and HL data\n",
    "df = merge_hh_hl_data(df, country, year)\n",
    "\n",
    "# Subset women file\n",
    "df = subset_women_file(df, country, year)"
   ]
  },
  {
   "cell_type": "markdown",
   "metadata": {},
   "source": [
    "#### Create Indicators"
   ]
  },
  {
   "cell_type": "code",
   "execution_count": null,
   "metadata": {},
   "outputs": [],
   "source": [
    "# --- Create Mother edu [mother_edu] --- #\n",
    "df = create_mother_edu(df, country, year)"
   ]
  },
  {
   "cell_type": "code",
   "execution_count": null,
   "metadata": {},
   "outputs": [],
   "source": [
    "# # --- ANC 4+ visits [anc_4_visits] --- #\n",
    "# df = create_anc_4_visits(df, country, year)\n",
    "\n",
    "# --- ANC components [anc_3_components] --- #\n",
    "df = create_anc_3_components(df, country, year)\n",
    "\n",
    "# --- Institutional [inst_delivery] --- #\n",
    "df = create_inst_delivery(df, country, year)\n",
    "\n",
    "# # --- Caesarean Delivery [caesarean_del] --- #\n",
    "# df = create_caesarean_del(df, country, year)\n",
    "\n",
    "# # Post-natal Health Check (mother) [pnc_mother]\n",
    "# df = create_pnc_mother(df, country, year)\n",
    "\n",
    "# --- Low birthweight [low_bw] --- #\n",
    "df = create_low_bw(df, country, year)\n",
    "\n",
    "# --- Early Initiation BF [early_bf] --- #\n",
    "df = create_early_bf(df, country, year)"
   ]
  },
  {
   "cell_type": "markdown",
   "metadata": {},
   "source": [
    "### Export working variables"
   ]
  },
  {
   "cell_type": "code",
   "execution_count": null,
   "metadata": {},
   "outputs": [],
   "source": [
    "export_analyzed_data(df, country, year, recode)"
   ]
  },
  {
   "cell_type": "markdown",
   "metadata": {},
   "source": [
    "### --- 2000 ---"
   ]
  },
  {
   "cell_type": "code",
   "execution_count": 41,
   "metadata": {},
   "outputs": [],
   "source": [
    "# Set parameters\n",
    "country = 'VNM'\n",
    "recode = 'women'\n",
    "\n",
    "# -------------------------------------------------------------------\n",
    "year = '2000'\n",
    "# -------------------------------------------------------------------"
   ]
  },
  {
   "cell_type": "code",
   "execution_count": 42,
   "metadata": {},
   "outputs": [
    {
     "name": "stdout",
     "output_type": "stream",
     "text": [
      "The file -- wm_2000.sav -- has the following shape: Rows: 9252; Columns: 182\n",
      "HHID is NOT unique\n",
      "WMID is unique\n",
      "Drop columns if all values are NaN...\n",
      "Updated -- Rows: 9252; Columns: 187\n",
      "Checking if any rows are duplicates...\n",
      "The are no duplicate rows\n",
      "The number of mothers with a birth in the past two years is: 550\n"
     ]
    }
   ],
   "source": [
    "# Read file\n",
    "df = read_spss_file(country, year, recode)\n",
    "\n",
    "# Create HHID to facilitate merge of HH and HL data\n",
    "generate_HHID(df, country, year, recode)\n",
    "\n",
    "# Create WMID to facilitate merge into U5 file\n",
    "generate_WMID(df, country, year)\n",
    "\n",
    "# Add Total, Year\n",
    "add_total_year(df, year)\n",
    "\n",
    "# Run quality assurance\n",
    "run_quality_assurance(df)\n",
    "\n",
    "# Merge in HH and HL data\n",
    "df = merge_hh_hl_data(df, country, year)\n",
    "\n",
    "# Subset women file\n",
    "df = subset_women_file(df, country, year)"
   ]
  },
  {
   "cell_type": "markdown",
   "metadata": {},
   "source": [
    "#### Create Indicators"
   ]
  },
  {
   "cell_type": "code",
   "execution_count": null,
   "metadata": {},
   "outputs": [],
   "source": [
    "# --- Create Mother edu [mother_edu] --- #\n",
    "df = create_mother_edu(df, country, year)"
   ]
  },
  {
   "cell_type": "code",
   "execution_count": null,
   "metadata": {},
   "outputs": [],
   "source": [
    "# # --- ANC 4+ visits [anc_4_visits] --- #\n",
    "# df = create_anc_4_visits(df, country, year)\n",
    "\n",
    "# # --- ANC components [anc_3_components] --- #\n",
    "# df = create_anc_3_components(df, country, year)\n",
    "\n",
    "# # --- Institutional [inst_delivery] --- #\n",
    "# df = create_inst_delivery(df, country, year)\n",
    "\n",
    "# # --- Caesarean Delivery [caesarean_del] --- #\n",
    "# df = create_caesarean_del(df, country, year)\n",
    "\n",
    "# # Post-natal Health Check (mother) [pnc_mother]\n",
    "# df = create_pnc_mother(df, country, year)\n",
    "\n",
    "# --- Low birthweight [low_bw] --- #\n",
    "df = create_low_bw(df, country, year)\n",
    "\n",
    "# # --- Early Initiation BF [early_bf] --- #\n",
    "# df = create_early_bf(df, country, year)"
   ]
  },
  {
   "cell_type": "markdown",
   "metadata": {},
   "source": [
    "### Export working variables"
   ]
  },
  {
   "cell_type": "code",
   "execution_count": null,
   "metadata": {},
   "outputs": [],
   "source": [
    "export_analyzed_data(df, country, year, recode)"
   ]
  },
  {
   "cell_type": "code",
   "execution_count": null,
   "metadata": {},
   "outputs": [],
   "source": []
  }
 ],
 "metadata": {
  "interpreter": {
   "hash": "d1219f75a05e3de399f75b6a0fa3fc1e1cfa3d08777c7149c1fd01787d780976"
  },
  "kernelspec": {
   "display_name": "Python 3.10.4 64-bit",
   "language": "python",
   "name": "python3"
  },
  "language_info": {
   "codemirror_mode": {
    "name": "ipython",
    "version": 3
   },
   "file_extension": ".py",
   "mimetype": "text/x-python",
   "name": "python",
   "nbconvert_exporter": "python",
   "pygments_lexer": "ipython3",
   "version": "3.10.4"
  },
  "orig_nbformat": 4
 },
 "nbformat": 4,
 "nbformat_minor": 2
}

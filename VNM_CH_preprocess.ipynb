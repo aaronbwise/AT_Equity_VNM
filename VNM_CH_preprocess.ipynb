{
 "cells": [
  {
   "cell_type": "markdown",
   "metadata": {},
   "source": [
    "# Alive & Thrive\n",
    "## Viet Nam Data: Child Files - Preprocessing\n",
    "## Prepared by Aaron Wise; aaron@a3di.dev\n",
    "### Version: 28 May 2022"
   ]
  },
  {
   "cell_type": "code",
   "execution_count": 9,
   "metadata": {},
   "outputs": [],
   "source": [
    "# %load std_imports.py\n",
    "from pathlib import Path\n",
    "\n",
    "import numpy as np\n",
    "import pandas as pd\n",
    "\n",
    "import json\n",
    "import pyreadstat\n",
    "\n",
    "from utils import create_HHID, read_file, run_quality_assurance, add_HHID, merge_hh_hl_data\n",
    "from aw_analytics import mean_wt, output_mean_table\n",
    "\n",
    "pd.set_option(\"display.max_rows\", 1500)\n",
    "pd.set_option(\"display.max_columns\", None)"
   ]
  },
  {
   "cell_type": "markdown",
   "metadata": {},
   "source": [
    "### --- 2021 ---"
   ]
  },
  {
   "cell_type": "code",
   "execution_count": 10,
   "metadata": {},
   "outputs": [
    {
     "name": "stdout",
     "output_type": "stream",
     "text": [
      "Rows: 4404; Columns: 537\n",
      "Drop columns if all values are NaN...\n",
      "Updated -- Rows: 4404; Columns: 533\n",
      "Checking if any rows are duplicates...\n",
      "The are no duplicate rows\n",
      "HHID is NOT unique\n"
     ]
    }
   ],
   "source": [
    "# -- Read in child file -- #\n",
    "\n",
    "## Set parameters\n",
    "country = 'VNM'\n",
    "recode = 'children'\n",
    "\n",
    "# -------------------------------------------------------------------\n",
    "year = '2021'\n",
    "# -------------------------------------------------------------------\n",
    "\n",
    "\n",
    "df = read_file(country, recode, year)\n",
    "\n",
    "\n",
    "# --- Run quality assurance --- #\n",
    "\n",
    "run_quality_assurance(df)\n",
    "\n",
    "# Create HHID var to facilitate merge of HH and HL data\n",
    "\n",
    "add_HHID(df, country, year, recode)\n",
    "\n",
    "# Merge Age_HoH, Sex_HoH and Eth_HoH information\n",
    "\n",
    "df = merge_hh_hl_data(df, country, year)"
   ]
  },
  {
   "cell_type": "markdown",
   "metadata": {},
   "source": [
    "#### Create Age Indicators ####"
   ]
  },
  {
   "cell_type": "code",
   "execution_count": 11,
   "metadata": {},
   "outputs": [],
   "source": [
    "# CAGE appears to be created by CSPro and therefor not reproducible from raw dataset\n",
    "\n",
    "# --- Age 0-5 months [ch_age_05] --- #\n",
    "df['ch_age_05'] = np.where(df['CAGE'] <= 5, 1, 0)\n",
    "\n",
    "# --- Age 6-8 months [ch_age_68] --- #\n",
    "df['ch_age_68'] = np.where((df['CAGE'] >= 6) & (df['CAGE'] <= 8), 1, 0)\n",
    "\n",
    "# --- Age 9-23 months [ch_age_923] --- #\n",
    "df['ch_age_923'] = np.where((df['CAGE'] >= 9) & (df['CAGE'] <= 23), 1, 0)\n",
    "\n",
    "# --- Age 12-23 months [ch_age_1223] --- #\n",
    "df['ch_age_1223'] = np.where((df['CAGE'] >= 12) & (df['CAGE'] <= 23), 1, 0)\n",
    "\n",
    "# --- Age 6-23 months [ch_age_623] --- #\n",
    "df['ch_age_623'] = np.where((df['CAGE'] >= 6) & (df['CAGE'] <= 23), 1, 0)\n"
   ]
  },
  {
   "cell_type": "markdown",
   "metadata": {},
   "source": [
    "#### Create Outcome Indicators"
   ]
  },
  {
   "cell_type": "code",
   "execution_count": null,
   "metadata": {},
   "outputs": [],
   "source": [
    "# --- Exclusive BF [excl_bf] --- #\n",
    "\n",
    "## Child drank NO liquids\n",
    "bd7_cols = ['BD7A', 'BD7B1', 'BD7B2', 'BD7C', 'BD7D', 'BD7E', 'BD7X']\n",
    "df['bd7_none'] = np.where(df[bd7_cols].eq('NO').all(axis=1), 1, 0)\n",
    "\n",
    "## Child ate NO solids\n",
    "bd8_cols = ['BD8A', 'BD8B', 'BD8C', 'BD8D', 'BD8E', 'BD8F', 'BD8G', 'BD8H', 'BD8I', 'BD8J',\n",
    "'BD8K', 'BD8L', 'BD8M', 'BD8N', 'BD8X']\n",
    "df['bd8_none'] = np.where(df[bd8_cols].eq('NO').all(axis=1), 1, 0)\n",
    "\n",
    "# Create indicator\n",
    "df['excl_bf'] = np.where((df['BD3'] == 'YES') & (df['bd7_none'] == 1) & (df['bd8_none'] == 1), 100, 0)\n",
    "df['excl_bf'] = np.where(df['ch_age_05'] == 0, np.nan, df['excl_bf'])"
   ]
  },
  {
   "cell_type": "code",
   "execution_count": null,
   "metadata": {},
   "outputs": [],
   "source": [
    "# --- Continued Breastfeeding 12-23 mos [cont_1223_bf] --- #\n",
    "df['cont_1223_bf'] = np.where(df['BD3'] == 'YES', 100, 0)\n",
    "df['cont_1223_bf'] = np.where(df['ch_age_1223'] == 0, np.nan, df['cont_1223_bf'])"
   ]
  },
  {
   "cell_type": "code",
   "execution_count": null,
   "metadata": {},
   "outputs": [],
   "source": [
    "# --- Minimum Dietary Diversity [mdd_ch] --- #\n",
    "\n",
    "# Generate food groups\n",
    "breastmilk = ['BD3']\n",
    "df['breastmilk'] = np.where(df[breastmilk].eq('YES').any(axis=1), 1, 0)\n",
    "\n",
    "grains = ['BD8B', 'BD8C', 'BD8E']\n",
    "df['grains'] = np.where(df[grains].eq('YES').any(axis=1), 1, 0)\n",
    "\n",
    "legumes = ['BD8M']\n",
    "df['legumes'] = np.where(df[legumes].eq('YES').any(axis=1), 1, 0)\n",
    "\n",
    "dairy = ['BD7D', 'BD7E', 'BD8A', 'BD8N']\n",
    "df['dairy'] = np.where(df[dairy].eq('YES').any(axis=1), 1, 0)\n",
    "\n",
    "flesh = ['BD8I', 'BD8J', 'BD8L']\n",
    "df['flesh'] = np.where(df[flesh].eq('YES').any(axis=1), 1, 0)\n",
    "\n",
    "eggs = ['BD8K']\n",
    "df['eggs'] = np.where(df[eggs].eq('YES').any(axis=1), 1, 0)\n",
    "\n",
    "vitaminA = ['BD8D', 'BD8F', 'BD8G']\n",
    "df['vitaminA'] = np.where(df[vitaminA].eq('YES').any(axis=1), 1, 0)\n",
    "\n",
    "other = ['BD8H']\n",
    "df['other'] = np.where(df[other].eq('YES').any(axis=1), 1, 0)\n",
    "\n",
    "# Create indicator\n",
    "food_groups = ['breastmilk', 'grains', 'legumes', 'dairy', 'flesh', 'eggs', 'vitaminA', 'other']\n",
    "\n",
    "df['mdd_ch'] = np.where(df[food_groups].apply(sum, axis=1) >= 5, 100, 0)\n",
    "df['mdd_ch'] = np.where(df['ch_age_623'] == 0, np.nan, df['mdd_ch'])"
   ]
  },
  {
   "cell_type": "code",
   "execution_count": null,
   "metadata": {},
   "outputs": [],
   "source": [
    "# --- Minimum Meal Frequency [mmf_ch] --- #\n",
    "\n",
    "## Convert BD7D1, BD7E1, and BD9 categorical values to int\n",
    "num_times_dict = {'ONE': 1.0, 'TWO': 2.0, 'THREE': 3.0, 'FOUR': 4.0, 'FIVE': 5.0, 'SIX': 6.0, 'SEVEN OR MORE': 7.0,\n",
    "'NaN': np.nan, 'DK': np.nan, 'NO RESPONSE': np.nan}\n",
    "\n",
    "df['solid_semi_soft_times'] = df['BD9'].map(num_times_dict).astype(float).fillna(0)\n",
    "df['formula_times'] = df['BD7D1'].map(num_times_dict).astype(float).fillna(0)\n",
    "df['other_milk_times'] = df['BD7E1'].map(num_times_dict).astype(float).fillna(0)\n",
    "\n",
    "## BREASTFED: Age 6-8 months with 2 soft, semi-soft, solid feeds\n",
    "df['mmf_bf_68'] = np.where((df['BD3'] == 'YES') & (df['solid_semi_soft_times'] >= 2), 1, 0)\n",
    "df['mmf_bf_68'] = np.where(df['ch_age_68'] == 0, 0, df['mmf_bf_68'])\n",
    "\n",
    "## BREASTFED: Age 9-23 months with 3 soft, semi-soft, solid feeds\n",
    "df['mmf_bf_923'] = np.where((df['BD3'] == 'YES') & (df['solid_semi_soft_times'] >= 3), 1, 0)\n",
    "df['mmf_bf_923'] = np.where(df['ch_age_923'] == 0, 0, df['mmf_bf_923'])\n",
    "\n",
    "## NON-BREASTFED: Age 6-23 months with 4 soft, semi-soft, solid or milk feeds (** At least 1 is semi, soft, solid)\n",
    "solid_semi_soft_milk_times = ['formula_times', 'other_milk_times', 'solid_semi_soft_times']\n",
    "df['solid_semi_soft_milk_times'] = np.where(df[solid_semi_soft_milk_times].apply(sum, axis=1) >= 4, 1, 0)\n",
    "\n",
    "df['mmf_nbf_623'] = np.where((df['breastmilk'] == 0) & (df['solid_semi_soft_milk_times'] == 1) & (df['solid_semi_soft_times'] >= 1), 1, 0)\n",
    "df['mmf_nbf_623'] = np.where(df['ch_age_623'] == 0, 0, df['mmf_nbf_623'])\n",
    "\n",
    "# Create indicator\n",
    "mmf_cols = ['mmf_bf_68', 'mmf_bf_923', 'mmf_nbf_623']\n",
    "df['mmf_ch'] = np.where(df[mmf_cols].eq(1).any(axis=1), 100, 0)\n",
    "df['mmf_ch'] = np.where(df['ch_age_623'] == 0, np.nan, df['mmf_ch'])"
   ]
  },
  {
   "cell_type": "code",
   "execution_count": null,
   "metadata": {},
   "outputs": [],
   "source": [
    "# --- Minimum Acceptable Diet [mad_ch] --- #\n",
    "\n",
    "## BREASTFED: Age 6-23 months w/ mdd and mmf\n",
    "df['mad_bf_623'] = np.where((df['breastmilk'] == 1) & (df['mdd_ch'] == 100) & (df['mmf_ch'] == 100), 1, 0)\n",
    "\n",
    "## NON-BREASTFED: Age 6-23 months w/ mdd and mmf and >= 2 milk feeds\n",
    "milk_times = ['formula_times', 'other_milk_times']\n",
    "df['milk_feeds_2'] = np.where(df[milk_times].sum(axis = 1) >= 2, 1, 0)\n",
    "\n",
    "df['mad_nbf_623'] = np.where((df['breastmilk'] == 0) & (df['mdd_ch'] == 100) & (df['mmf_ch'] == 100) & (df['milk_feeds_2'] == 1), 1, 0)\n",
    "\n",
    "# Create indicator\n",
    "mad_cols = ['mad_bf_623', 'mad_nbf_623']\n",
    "df['mad_ch'] = np.where(df[mad_cols].eq(1).any(axis=1), 100, 0)\n",
    "df['mad_ch'] = np.where(df['ch_age_623'] == 0, np.nan, df['mad_ch'])"
   ]
  },
  {
   "cell_type": "markdown",
   "metadata": {},
   "source": [
    "#### Create Equity Stratifiers"
   ]
  },
  {
   "cell_type": "code",
   "execution_count": null,
   "metadata": {},
   "outputs": [],
   "source": [
    "# --- Child Sex --- #\n",
    "df['female'] = np.where(df['HL4'] == 'FEMALE', 'Female', 'Male')\n",
    "\n",
    "# --- Residence --- #\n",
    "df['residence'] = np.where(df['HH6'] == 'RURAL', 'rural', 'urban')\n",
    "\n",
    "# --- Location --- #\n",
    "\n",
    "## Combine region value with city value\n",
    "df['region_comb'] = df['HH7']\n",
    "df['region_comb'] = np.where(df['HH7A'] == 'Ha Noi', 'Ha Noi', df['region_comb'])\n",
    "df['region_comb'] = np.where(df['HH7A'] == 'Ho Chi Minh city', 'Ho Chi Minh city', df['region_comb'])\n",
    "\n",
    "# --- Mother's education --- #\n",
    "\n",
    "## Create categories\n",
    "conditions = [\n",
    "    ((df['melevel'].isnull()) | (df['melevel'] == 'Pre-primary or none')),\n",
    "    (df['melevel'] == 'Primary'),\n",
    "    ((df['melevel'] == 'Lower Secondary') | (df['melevel'] == 'Upper Secondary') |\n",
    "     (df['melevel'] == 'Vocational High school')),\n",
    "    (df['melevel'] == 'University/College/Higher')\n",
    "]\n",
    "choices = ['None', 'Primary', 'Secondary', 'Higher']\n",
    "df['mother_edu'] = np.select(conditions, choices)\n",
    "\n",
    "# --- Wealth quintile --- #\n",
    "df['wealth_q'] = df['windex5']\n",
    "\n",
    "# --- Ethnicity of HoH --- #\n",
    "df['ethn_hoh'] = df['ethnicity']\n",
    "\n",
    "# --- Female HoH --- #\n",
    "df['sex_HoH'] = np.where(df['HHSEX'] == 'Female', 'Female', 'Male')\n",
    "\n",
    "# --- Elderly HoH --- #\n",
    "df['elderly_HoH'] = np.where(df['HHAGE'] >= 60, 'Yes, 60+', 'No, < 60')\n",
    "\n",
    "# --- Disability --- #\n",
    "## NA in VNM"
   ]
  },
  {
   "cell_type": "markdown",
   "metadata": {},
   "source": [
    "#### Subset and export working dataset"
   ]
  },
  {
   "cell_type": "code",
   "execution_count": null,
   "metadata": {},
   "outputs": [],
   "source": [
    "# Identify and select columns for working dataset\n",
    "working_var_idx = df.columns.get_loc('Total')\n",
    "working_var_cols = df.columns[working_var_idx:-1].to_list()\n",
    "\n",
    "out_df = df[working_var_cols]\n",
    "\n",
    "# Generate out_filepath\n",
    "out_file = recode.split('.')[0] + '_subset' + '.csv'\n",
    "out_filepath = datadir.joinpath('clean').joinpath(out_file)\n",
    "\n",
    "# Save as csv\n",
    "out_df.to_csv(out_filepath, index=False)"
   ]
  },
  {
   "cell_type": "code",
   "execution_count": null,
   "metadata": {},
   "outputs": [],
   "source": []
  }
 ],
 "metadata": {
  "interpreter": {
   "hash": "d1219f75a05e3de399f75b6a0fa3fc1e1cfa3d08777c7149c1fd01787d780976"
  },
  "kernelspec": {
   "display_name": "Python 3.10.4 64-bit",
   "language": "python",
   "name": "python3"
  },
  "language_info": {
   "codemirror_mode": {
    "name": "ipython",
    "version": 3
   },
   "file_extension": ".py",
   "mimetype": "text/x-python",
   "name": "python",
   "nbconvert_exporter": "python",
   "pygments_lexer": "ipython3",
   "version": "3.10.4"
  },
  "orig_nbformat": 4
 },
 "nbformat": 4,
 "nbformat_minor": 2
}
